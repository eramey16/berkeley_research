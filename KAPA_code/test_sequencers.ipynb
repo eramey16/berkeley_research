{
 "cells": [
  {
   "cell_type": "markdown",
   "metadata": {},
   "source": [
    "# Testing sequencers for possible use in KAPA software"
   ]
  },
  {
   "cell_type": "markdown",
   "metadata": {},
   "source": [
    "### Preamble"
   ]
  },
  {
   "cell_type": "code",
   "execution_count": 1,
   "metadata": {},
   "outputs": [],
   "source": [
    "import numpy as np\n",
    "import pandas as pd\n",
    "import sys\n",
    "import time\n",
    "import matplotlib.pyplot as plt\n",
    "from PyQt5 import QtWidgets as qtw, QtGui as qtg, QtCore as qtc"
   ]
  },
  {
   "cell_type": "code",
   "execution_count": 2,
   "metadata": {},
   "outputs": [],
   "source": [
    "# %gui qt"
   ]
  },
  {
   "cell_type": "code",
   "execution_count": 3,
   "metadata": {},
   "outputs": [],
   "source": [
    "# class LightWindow(qtw.QWidget):\n",
    "#     def __init__(self):\n",
    "#         super().__init__()\n",
    "#         self.setLayout(qtw.QHBoxLayout())\n",
    "#         self.layout().setAlignment(qtc.Qt.AlignJustify)\n",
    "#         self.resize(500, 500)\n",
    "#         voltage_slider = qtw.QSlider(qtc.Qt.Vertical)\n",
    "#         self.layout().addWidget(voltage_slider)\n",
    "#         self.show()"
   ]
  },
  {
   "cell_type": "code",
   "execution_count": 4,
   "metadata": {},
   "outputs": [],
   "source": [
    "# # Example application\n",
    "# app = qtw.QApplication([])\n",
    "# lw = LightWindow()\n",
    "# app.exec()"
   ]
  },
  {
   "cell_type": "markdown",
   "metadata": {},
   "source": [
    "### Package: python-statemachine\n",
    "Sequencer based on the concept of a finite state machine. Not specifically built for use with PyEpics or EPICS interface.\n",
    "<a href=https://python-statemachine.readthedocs.io/en/latest/index.html>Documentation here</a>"
   ]
  },
  {
   "cell_type": "code",
   "execution_count": 2,
   "metadata": {},
   "outputs": [],
   "source": [
    "from statemachine import StateMachine, State"
   ]
  },
  {
   "cell_type": "markdown",
   "metadata": {},
   "source": [
    "#### Test case: Light Switch\n",
    "To test these sequencer packages, I will implement a test case based on a light bulb with varying voltage."
   ]
  },
  {
   "cell_type": "code",
   "execution_count": 3,
   "metadata": {},
   "outputs": [],
   "source": [
    "# Subclass state machine\n",
    "class LightMachine(StateMachine):\n",
    "    off = State('Off', initial=True)\n",
    "    on = State('On')\n",
    "\n",
    "    turn_off = on.to(off)\n",
    "    turn_on = off.to(on)\n",
    "    \n",
    "    def on_turn_on(self):\n",
    "        print(\"Light on \", end='\\r')\n",
    "    def on_turn_off(self):\n",
    "        print(\"Light off\", end='\\r')\n",
    "\n",
    "    def transition(self, voltage):\n",
    "        if self.is_on and voltage<5.0:\n",
    "            self.turn_off()\n",
    "        elif self.is_off and voltage>5.0:\n",
    "            self.turn_on()"
   ]
  },
  {
   "cell_type": "code",
   "execution_count": 4,
   "metadata": {},
   "outputs": [
    {
     "name": "stdout",
     "output_type": "stream",
     "text": [
      "Light off\r"
     ]
    }
   ],
   "source": [
    "light = LightMachine()\n",
    "count = 1000\n",
    "inc = 0.01\n",
    "voltage = 0\n",
    "# varies voltage\n",
    "for _ in range(count):\n",
    "    inc = -inc if voltage>=10.0 or voltage<0.0 else inc\n",
    "    voltage += inc\n",
    "    light.transition(voltage)\n",
    "    time.sleep(0.005)"
   ]
  },
  {
   "cell_type": "markdown",
   "metadata": {},
   "source": [
    "### Package: transitions\n",
    "Implements a different version of a finite state machine in Python.\n",
    "<a href=https://github.com/pytransitions/transitions#quickstart>Documentation here</a>"
   ]
  },
  {
   "cell_type": "code",
   "execution_count": 5,
   "metadata": {},
   "outputs": [],
   "source": [
    "from transitions import Machine"
   ]
  },
  {
   "cell_type": "code",
   "execution_count": 6,
   "metadata": {},
   "outputs": [],
   "source": [
    "class LightBulb:\n",
    "    states = ['on', 'off']\n",
    "    def __init__(self):\n",
    "        self.machine = Machine(model=self, states=self.states, initial=self.states[0])\n",
    "        \n",
    "        self.machine.add_transition(trigger='next', source='*', dest='on', conditions=['enough_voltage'], after='print_state')\n",
    "        self.machine.add_transition(trigger='next', source='*', dest='off', after='print_state')\n",
    "    \n",
    "    @property\n",
    "    def enough_voltage(self):\n",
    "        \"\"\" Simulates an AC current \"\"\"\n",
    "        return (int(time.time()*100) % 10) > 5\n",
    "    \n",
    "    def print_state(self):\n",
    "        if self.state=='on':\n",
    "            print(\"light on \", end='\\r')\n",
    "        else:\n",
    "            print(\"light off\", end='\\r')"
   ]
  },
  {
   "cell_type": "code",
   "execution_count": 7,
   "metadata": {},
   "outputs": [
    {
     "name": "stdout",
     "output_type": "stream",
     "text": [
      "light on \r"
     ]
    }
   ],
   "source": [
    "light = LightBulb()\n",
    "for i in range(5000):\n",
    "    light.next()\n",
    "    time.sleep(0.01)"
   ]
  },
  {
   "cell_type": "markdown",
   "metadata": {},
   "source": [
    "#### Test case: Parity Checker\n",
    "Another simple test case is a binary parity checker - whether there are an even number of zeros or ones in a binary number. For this test case we will pass the number in as a string for ease of programming and checking for an even number of ones."
   ]
  },
  {
   "cell_type": "code",
   "execution_count": 48,
   "metadata": {},
   "outputs": [],
   "source": [
    "test_even = \"100101011101001\" # even\n",
    "test_odd = \"01101011011001111\" # odd\n",
    "test_invalid = \"1011023011001\" # no numbers allowed > 1"
   ]
  },
  {
   "cell_type": "markdown",
   "metadata": {},
   "source": [
    "##### With statemachine:"
   ]
  },
  {
   "cell_type": "code",
   "execution_count": 65,
   "metadata": {},
   "outputs": [],
   "source": [
    "class ParityMachine(StateMachine):\n",
    "    even = State('Even', initial=True)\n",
    "    odd = State('Odd')\n",
    "    invalid = State(\"Invalid\")\n",
    "    \n",
    "    to_even = odd.to(even)\n",
    "    to_odd = even.to(odd)\n",
    "    even_invalid = even.to(invalid)\n",
    "    odd_invalid = odd.to(invalid)\n",
    "    reset_inv = invalid.to(even)\n",
    "    \n",
    "    def result(self):\n",
    "        if not self.is_invalid:\n",
    "            return self.is_even\n",
    "        else:\n",
    "            return \"Invalid number\"\n",
    "    \n",
    "    def transition(self, key):\n",
    "        # Notice we have to resort to just not calling certain transitions\n",
    "        # if we don't want to individually name them\n",
    "        if key=='1':\n",
    "            if self.is_even:\n",
    "                self.to_odd()\n",
    "            elif self.is_odd:\n",
    "                self.to_even()\n",
    "        elif key!='0':\n",
    "            if self.is_even:\n",
    "                self.even_invalid()\n",
    "            if self.is_odd:\n",
    "                self.odd_invalid()\n",
    "    \n",
    "    def read(self, binary):\n",
    "        for num in binary:\n",
    "            self.transition(num)\n",
    "        \n",
    "        print(self.current_state.identifier)\n",
    "        \n",
    "        if self.is_odd:\n",
    "            self.to_even()\n",
    "        if self.is_invalid:\n",
    "            self.reset_inv()"
   ]
  },
  {
   "cell_type": "code",
   "execution_count": 68,
   "metadata": {},
   "outputs": [
    {
     "name": "stdout",
     "output_type": "stream",
     "text": [
      "even\n",
      "odd\n",
      "invalid\n"
     ]
    }
   ],
   "source": [
    "# Had to work out many bugs, but it works\n",
    "# MUCH more code than the other one\n",
    "pm = ParityMachine()\n",
    "pm.read(test_even)\n",
    "pm.read(test_odd)\n",
    "pm.read(test_invalid)"
   ]
  },
  {
   "cell_type": "markdown",
   "metadata": {},
   "source": [
    "##### With transitions:"
   ]
  },
  {
   "cell_type": "code",
   "execution_count": 30,
   "metadata": {},
   "outputs": [],
   "source": [
    "class ParityChecker:\n",
    "    states = [\"even\", \"odd\", \"invalid\"]\n",
    "    def __init__(self):\n",
    "        self.machine = Machine(model=self, states=self.states, initial='even', ignore_invalid_triggers=True)\n",
    "        self.machine.add_transition('next', 'even', 'odd', conditions='one', unless='inv')\n",
    "        self.machine.add_transition('next', 'odd', 'even', conditions='one', unless='inv')\n",
    "        self.machine.add_transition('next', '*', 'invalid', conditions='inv')\n",
    "        self.machine.add_transition('reset', '*', 'even')\n",
    "    \n",
    "    def one(self, num):\n",
    "        return num=='1'\n",
    "    \n",
    "    def inv(self, num):\n",
    "        return num!='1' and num!='0'\n",
    "    \n",
    "    def read(self, binary):\n",
    "        for num in binary:\n",
    "            self.next(num)\n",
    "        print(self.state)\n",
    "        self.reset()"
   ]
  },
  {
   "cell_type": "code",
   "execution_count": 37,
   "metadata": {},
   "outputs": [
    {
     "name": "stdout",
     "output_type": "stream",
     "text": [
      "even\n",
      "odd\n",
      "invalid\n"
     ]
    }
   ],
   "source": [
    "# Worked on like the first or second try\n",
    "pc = ParityChecker()\n",
    "pc.read(test_even)\n",
    "pc.read(test_odd)\n",
    "pc.read(test_invalid)"
   ]
  },
  {
   "cell_type": "code",
   "execution_count": null,
   "metadata": {},
   "outputs": [],
   "source": []
  }
 ],
 "metadata": {
  "kernelspec": {
   "display_name": "Python 3",
   "language": "python",
   "name": "python3"
  },
  "language_info": {
   "codemirror_mode": {
    "name": "ipython",
    "version": 3
   },
   "file_extension": ".py",
   "mimetype": "text/x-python",
   "name": "python",
   "nbconvert_exporter": "python",
   "pygments_lexer": "ipython3",
   "version": "3.7.4"
  }
 },
 "nbformat": 4,
 "nbformat_minor": 4
}
