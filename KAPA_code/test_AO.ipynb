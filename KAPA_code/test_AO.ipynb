{
 "cells": [
  {
   "cell_type": "code",
   "execution_count": 1,
   "metadata": {},
   "outputs": [],
   "source": [
    "import setup_bench_trial as test\n",
    "import enum\n",
    "from transitions import State, Machine"
   ]
  },
  {
   "cell_type": "code",
   "execution_count": 2,
   "metadata": {},
   "outputs": [],
   "source": [
    "# temporary stand-in for user-input data\n",
    "data_vars = {\n",
    "    'rmag': 10,\n",
    "    'archmode': 0,\n",
    "    'aoopsmode': 2,\n",
    "    'lgsmode': 0,\n",
    "    'lst3pcrg': 1,\n",
    "    'lgsfrrt': 20,\n",
    "    'simulate': 0,\n",
    "    'tname': 'LASER ZENITH',\n",
    "    'instname': 'NIRC2',\n",
    "    'telescope': 'Keck II',\n",
    "    'darmode': 1,\n",
    "    'offAxisFlag': 1,\n",
    "    'pntTTcur': [0,1],\n",
    "    'pntrefcur': [1,2],\n",
    "}"
   ]
  },
  {
   "cell_type": "code",
   "execution_count": 3,
   "metadata": {},
   "outputs": [
    {
     "name": "stdout",
     "output_type": "stream",
     "text": [
      "OPSModes.NGS\n",
      "SystemStates.IDLE\n"
     ]
    }
   ],
   "source": [
    "bench = test.setup_bench(data_vars)\n",
    "bench.run()"
   ]
  },
  {
   "cell_type": "code",
   "execution_count": 12,
   "metadata": {},
   "outputs": [
    {
     "name": "stdout",
     "output_type": "stream",
     "text": [
      "OPSModes.NGS\n",
      "Running state VERIFYING\n"
     ]
    },
    {
     "data": {
      "text/plain": [
       "True"
      ]
     },
     "execution_count": 12,
     "metadata": {},
     "output_type": "execute_result"
    }
   ],
   "source": [
    "bench.to_NGS()\n",
    "print(bench.aoopsmode)\n",
    "bench.next()"
   ]
  },
  {
   "cell_type": "code",
   "execution_count": 3,
   "metadata": {},
   "outputs": [
    {
     "name": "stdout",
     "output_type": "stream",
     "text": [
      "\tValue of abort flag is 0\n",
      "\tSetting abort flag to 1\n",
      "\tValue of abort flag is 1\n",
      "\tSetting abort flag to 0\n",
      "\tValue of abort flag is 0\n"
     ]
    },
    {
     "data": {
      "text/plain": [
       "0"
      ]
     },
     "execution_count": 3,
     "metadata": {},
     "output_type": "execute_result"
    }
   ],
   "source": [
    "test.abort_flag.value = 1\n",
    "test.abort_flag.value = 0\n",
    "test.abort_flag.value"
   ]
  },
  {
   "cell_type": "code",
   "execution_count": 4,
   "metadata": {},
   "outputs": [
    {
     "name": "stdout",
     "output_type": "stream",
     "text": [
      "\tValue of abort flag is 0\n"
     ]
    }
   ],
   "source": [
    "test.abort_flag.clear()"
   ]
  },
  {
   "cell_type": "code",
   "execution_count": 57,
   "metadata": {},
   "outputs": [],
   "source": [
    "class Test(enum.Enum):\n",
    "    test1 = \"test1\"\n",
    "    test2 = \"test2\"\n",
    "    test3 = \"test3\"\n",
    "    \n",
    "    def run(self):\n",
    "        print(\"Running state\", self.name)"
   ]
  },
  {
   "cell_type": "code",
   "execution_count": 75,
   "metadata": {},
   "outputs": [],
   "source": [
    "m = Machine(states=Test, initial=Test.test1, transitions=[['next', Test.test1, Test.test2], ['next', Test.test2, Test.test3]])"
   ]
  },
  {
   "cell_type": "code",
   "execution_count": 57,
   "metadata": {},
   "outputs": [],
   "source": [
    "class Matter(Machine):\n",
    "    def __init__(self):\n",
    "        self.testmachine1 = Machine(self, model_attribute='test1', states=['A', 'B', 'C'], initial='A')\n",
    "        self.testmachine2 = Machine(self, model_attribute='test2', states=['D', 'E', 'F'], initial='D')"
   ]
  },
  {
   "cell_type": "code",
   "execution_count": 58,
   "metadata": {},
   "outputs": [
    {
     "data": {
      "text/plain": [
       "('C', 'E')"
      ]
     },
     "execution_count": 58,
     "metadata": {},
     "output_type": "execute_result"
    }
   ],
   "source": [
    "lump = Matter()\n",
    "lump.to_C()\n",
    "lump.to_E()\n",
    "lump.test1, lump.test2"
   ]
  },
  {
   "cell_type": "code",
   "execution_count": 16,
   "metadata": {},
   "outputs": [],
   "source": [
    "lump = Matter()\n",
    "test1 = Machine(lump, model_attribute='test1', states=['A', 'B', 'C'], initial='A')\n",
    "test2 = Machine(lump, model_attribute='test2', states=['D', 'E', 'F'], initial='D')"
   ]
  },
  {
   "cell_type": "code",
   "execution_count": 21,
   "metadata": {},
   "outputs": [
    {
     "data": {
      "text/plain": [
       "'A'"
      ]
     },
     "execution_count": 21,
     "metadata": {},
     "output_type": "execute_result"
    }
   ],
   "source": [
    "lump.to_E()\n",
    "lump.test1"
   ]
  },
  {
   "cell_type": "code",
   "execution_count": 76,
   "metadata": {},
   "outputs": [
    {
     "name": "stdout",
     "output_type": "stream",
     "text": [
      "[<bound method Test.run of <Test.test1: 'test1'>>]\n",
      "[<bound method Test.run of <Test.test2: 'test2'>>]\n",
      "[<bound method Test.run of <Test.test3: 'test3'>>]\n"
     ]
    }
   ],
   "source": [
    "for name, state in m.states.items():\n",
    "    state.on_enter = [state.value.run]\n",
    "    print(state.on_enter)"
   ]
  },
  {
   "cell_type": "code",
   "execution_count": 77,
   "metadata": {},
   "outputs": [
    {
     "name": "stdout",
     "output_type": "stream",
     "text": [
      "Running state test2\n"
     ]
    },
    {
     "data": {
      "text/plain": [
       "True"
      ]
     },
     "execution_count": 77,
     "metadata": {},
     "output_type": "execute_result"
    }
   ],
   "source": [
    "m.next()"
   ]
  },
  {
   "cell_type": "code",
   "execution_count": null,
   "metadata": {},
   "outputs": [],
   "source": []
  }
 ],
 "metadata": {
  "kernelspec": {
   "display_name": "Python 3",
   "language": "python",
   "name": "python3"
  },
  "language_info": {
   "codemirror_mode": {
    "name": "ipython",
    "version": 3
   },
   "file_extension": ".py",
   "mimetype": "text/x-python",
   "name": "python",
   "nbconvert_exporter": "python",
   "pygments_lexer": "ipython3",
   "version": "3.7.4"
  }
 },
 "nbformat": 4,
 "nbformat_minor": 4
}
