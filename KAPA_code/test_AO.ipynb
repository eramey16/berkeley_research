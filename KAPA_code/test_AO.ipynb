{
 "cells": [
  {
   "cell_type": "code",
   "execution_count": 1,
   "metadata": {},
   "outputs": [],
   "source": [
    "import setup_bench_trial as test"
   ]
  },
  {
   "cell_type": "code",
   "execution_count": 2,
   "metadata": {},
   "outputs": [],
   "source": [
    "# temporary stand-in for user-input data\n",
    "data_vars = {\n",
    "    'rmag': 10,\n",
    "    'archmode': 0,\n",
    "    'aoopsmode': 2,\n",
    "    'lgsmode': 0,\n",
    "    'lst3pcrg': 1,\n",
    "    'lgsfrrt': 20,\n",
    "    'simulate': 0,\n",
    "    'tname': 'LASER ZENITH',\n",
    "    'instname': 'NIRC2',\n",
    "    'telescope': 'Keck II',\n",
    "    'darmode': 1,\n",
    "    'offAxisFlag': 1,\n",
    "    'pntTTcur': [0,1],\n",
    "    'pntrefcur': [1,2],\n",
    "}"
   ]
  },
  {
   "cell_type": "code",
   "execution_count": 3,
   "metadata": {},
   "outputs": [
    {
     "name": "stdout",
     "output_type": "stream",
     "text": [
      "\tValue of abort flag is 0\n",
      "\tSetting abort flag to 1\n",
      "\tValue of abort flag is 1\n",
      "\tSetting abort flag to 0\n",
      "\tValue of abort flag is 0\n"
     ]
    },
    {
     "data": {
      "text/plain": [
       "0"
      ]
     },
     "execution_count": 3,
     "metadata": {},
     "output_type": "execute_result"
    }
   ],
   "source": [
    "test.abort_flag.value = 1\n",
    "test.abort_flag.value = 0\n",
    "test.abort_flag.value"
   ]
  },
  {
   "cell_type": "code",
   "execution_count": 4,
   "metadata": {},
   "outputs": [
    {
     "name": "stdout",
     "output_type": "stream",
     "text": [
      "\tValue of abort flag is 0\n"
     ]
    }
   ],
   "source": [
    "test.abort_flag.clear()"
   ]
  },
  {
   "cell_type": "code",
   "execution_count": 5,
   "metadata": {},
   "outputs": [
    {
     "name": "stdout",
     "output_type": "stream",
     "text": [
      "\tValue of down tip-tilt loop is 0\n",
      "\tValue of deformable mirror loop is 0\n",
      "\tValue of abort flag is 0\n",
      "\tValue of ___aofmmove___ is 0\n",
      "\tValue of ___aolpmove___ is 0\n",
      "Message: Setting M3 to LGS FIXED\n",
      "Message: Opening all loops\n",
      "\tValue of AO Loop? is 0\n",
      "\tValue of UT Loop? is 0\n",
      "\tValue of TT Mode? is 0\n",
      "\tValue of FO Mode? is 0\n",
      "\tValue of lspntrce??? is 0\n",
      "\tValue of telemetry recording is 0\n",
      "\tSetting telemetry recording to 7\n",
      "Message: Set AO ref. name for science inst.\n",
      "Message: update object name...\n",
      "Message: Connecting to nirc2server to\n",
      "\tValue of ___obptname___ is 0\n",
      "\tSetting ___obptname___ to LASER ZENITH\n",
      "\tValue of ___lbtmtocp___ is 0\n",
      "\tValue of ___lgrmswf___ is 0\n",
      "\tSetting ___lgrmswf___ to 300.0\n",
      "Message: Installing SOD sodiumDichroic\n",
      "\tValue of SOD stage is 0\n",
      "\tSetting SOD stage to sodiumDichroic\n",
      "Message: Installing AFM mirror\n",
      "\tValue of AFM stage is 0\n",
      "\tSetting AFM stage to mirror\n",
      "Message: Moving AFS to named position ngs\n",
      "\tValue of AFS stage is 0\n",
      "\tSetting AFS stage to ngs\n",
      "\tValue of WYKO Shutter is 0\n",
      "Message: WYKO shutter is not closed\n",
      "Message: Closing WYKO shutter\n",
      "\tValue of WYKO Shutter is 0\n",
      "\tSetting WYKO Shutter to 1\n",
      "Message: Configuring focus manager\n",
      "\tValue of ___aofcosoc___ is 0\n",
      "\tValue of ___aofctroc___ is 0\n",
      "\tSetting ___aofctroc___ to 1\n",
      "\tValue of ___aofcngct___ is 0\n",
      "\tSetting ___aofcngct___ to 1\n",
      "\tValue of ___aofclgct___ is 0\n",
      "\tSetting ___aofclgct___ to 1\n",
      "\tValue of ___aofclbct___ is 0\n",
      "\tValue of ___obwfdsrc___ is 0\n",
      "Message: Switching FCS to tracking or manual\n",
      "\tValue of ___obwfdsrc___ is 0\n",
      "\tSetting ___obwfdsrc___ to 2\n",
      "\tValue of ___obwfmove___ is 0\n",
      "\tSetting ___obwfmove___ to 1\n",
      "\tValue of ___aofcc0so___ is 0\n",
      "\tSetting ___aofcc0so___ to -0.7\n",
      "\tValue of ___aofcc0so___ is -0.7\n",
      "Message: Setting SOD FCS offset to -0.7\n",
      "Message: Setting FCS C0 for NIRC2\n",
      "\tValue of ___obwpdsrc___ is 0\n",
      "Message: Setting up DAR\n",
      "\tValue of ___guidwave___ is 0\n",
      "\tSetting ___guidwave___ to 6.8e-07\n",
      "\tValue of ___aodrzsim___ is 0\n",
      "\tSetting ___aodrzsim___ to 1.0\n",
      "\tValue of ___aodrena___ is 0\n",
      "\tSetting ___aodrena___ to 1.0\n",
      "\tValue of ___aotfenb___ is 0\n",
      "\tSetting ___aotfenb___ to 1\n",
      "Getting named position: tss optbsstrap\n",
      "Getting named position: tss optsodstrap\n",
      "\tValue of ___aotsbsgx___ is 0\n",
      "\tSetting ___aotsbsgx___ to -1\n",
      "\tValue of ___aotsbsgy___ is 0\n",
      "\tSetting ___aotsbsgy___ to -2\n",
      "\tValue of ___aotsbsgz___ is 0\n",
      "\tSetting ___aotsbsgz___ to -3\n",
      "\tValue of ___aotssdgx___ is 0\n",
      "\tSetting ___aotssdgx___ to -1\n",
      "\tValue of ___aotssdgy___ is 0\n",
      "\tSetting ___aotssdgy___ to -2\n",
      "\tValue of ___aotssdgz___ is 0\n",
      "\tSetting ___aotssdgz___ to -3\n",
      "\tValue of ___aotsgold___ is 0\n",
      "Getting TT pointing\n",
      "Message: Moving FSMs to (X=1, Y=2)\n",
      "\tValue of ___aofmx___ is 0\n",
      "\tSetting ___aofmx___ to 0.001\n",
      "\tValue of ___aofmy___ is 0\n",
      "\tSetting ___aofmy___ to 0.002\n",
      "\tValue of ___aofmgo___ is 0\n",
      "\tSetting ___aofmgo___ to 1\n",
      "\tValue of SOD stage is sodiumDichroic\n",
      "Getting named position: tss optsodstrap\n",
      "Message: Moving TSS to (X=1, Y=2, Z=3)\n",
      "\tValue of ___aotsx___ is 0\n",
      "\tValue of ___aotsy___ is 0\n",
      "\tSetting ___aotsy___ to 0.001\n",
      "\tValue of ___aotsgo___ is 0\n",
      "\tSetting ___aotsgo___ to 1\n",
      "Message: Switching LTCS laser configuration STRAP\n",
      "\tValue of ___lsltlson___ is 0\n",
      "\tSetting ___lsltlson___ to 1\n",
      "Message: Setting WFO period to 20.0s\n",
      "\tValue of ___aofotthr___ is 0\n",
      "\tSetting ___aofotthr___ to 20.0\n",
      "Message: Configuring M2-M5 integrator\n",
      "\tValue of ___lspntrci___ is 0\n",
      "\tSetting ___lspntrci___ to 1\n",
      "Message: Switching DT sensor to STRAP\n",
      "\tValue of ___dtsensor___ is 0\n",
      "\tSetting ___dtsensor___ to 1\n",
      "Checking rmag\n",
      "Checking rmag\n",
      "Message: Setting STRAP for effective mR=15\n",
      "Setting up STRAP\n",
      "\tValue of ___obsi___ is 0\n",
      "\tValue of ___obsi___ is 0\n",
      "\tSetting ___obsi___ to -0.0015\n",
      "Message: Halting LBWFS\n",
      "\tValue of ___aolbloop___ is 0\n",
      "\tValue of ___aolblpstr___ is 0\n",
      "\tSetting ___aolblpstr___ to Halted\n",
      "\tValue of ___lblpnfra___ is 0\n",
      "\tValue of ___aolbsvcg___ is 0\n",
      "\tValue of ___aofclbct___ is 0\n",
      "\tValue of ___lbtmtocp___ is 0\n",
      "Message: Closing TTO, M2-M5 offload loops\n",
      "\tValue of ___aottmode___ is 0\n",
      "\tSetting ___aottmode___ to 1\n",
      "\tValue of ___lspntrce___ is 0\n",
      "\tSetting ___lspntrce___ to 1\n",
      "Waiting for devices\n",
      "\tValue of ___recapsmt___ is 0\n",
      "\tSetting ___recapsmt___ to 236\n",
      "\tValue of ___dtdst___ is 0\n",
      "\tValue of ___utdst___ is 0\n",
      "\tValue of ___dtservo___ is 0\n",
      "\tSetting ___dtservo___ to [1, 0, 0, 0, -1, 0, 0]\n",
      "\tValue of ___utservo___ is 0\n",
      "\tSetting ___utservo___ to [1, 0, 0, 0, -1, 0, 0]\n",
      "\tValue of ___dmservo___ is 0\n",
      "\tSetting ___dmservo___ to [1, 0, 0, 0, -0.99, 0, 0]\n",
      "\tValue of ___dtclp___ is 0\n",
      "\tSetting ___dtclp___ to 1\n",
      "\tValue of ___utclp___ is 0\n",
      "\tSetting ___utclp___ to 1\n",
      "\tValue of ___dtgain___ is 0\n",
      "\tSetting ___dtgain___ to 0.2\n",
      "\tValue of ___dmgain___ is 0\n",
      "\tSetting ___dmgain___ to 0.4\n",
      "\tValue of ___utgain___ is 0\n",
      "\tSetting ___utgain___ to 0.1\n",
      "Setting framerate\n",
      "Message: Moving WND to named position open\n",
      "\tValue of ___obwnname___ is 0\n",
      "\tSetting ___obwnname___ to open\n",
      "\tValue of ___obpsxfs___ is 0\n",
      "Message: Setting up the lenslet config\n",
      "Message: Bench setup done\n"
     ]
    }
   ],
   "source": [
    "bench = test.setup_bench(data_vars)\n",
    "bench.run()"
   ]
  },
  {
   "cell_type": "code",
   "execution_count": 6,
   "metadata": {},
   "outputs": [
    {
     "data": {
      "text/plain": [
       "<OPSModes.LGS: 2>"
      ]
     },
     "execution_count": 6,
     "metadata": {},
     "output_type": "execute_result"
    }
   ],
   "source": [
    "bench.aoopsmode"
   ]
  },
  {
   "cell_type": "code",
   "execution_count": 7,
   "metadata": {},
   "outputs": [
    {
     "data": {
      "text/plain": [
       "'sodiumDichroic'"
      ]
     },
     "execution_count": 7,
     "metadata": {},
     "output_type": "execute_result"
    }
   ],
   "source": [
    "bench.aoopsmode['obsdname']"
   ]
  },
  {
   "cell_type": "code",
   "execution_count": null,
   "metadata": {},
   "outputs": [],
   "source": []
  }
 ],
 "metadata": {
  "kernelspec": {
   "display_name": "Python 3",
   "language": "python",
   "name": "python3"
  },
  "language_info": {
   "codemirror_mode": {
    "name": "ipython",
    "version": 3
   },
   "file_extension": ".py",
   "mimetype": "text/x-python",
   "name": "python",
   "nbconvert_exporter": "python",
   "pygments_lexer": "ipython3",
   "version": "3.7.4"
  }
 },
 "nbformat": 4,
 "nbformat_minor": 4
}
