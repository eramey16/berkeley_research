{
 "cells": [
  {
   "cell_type": "code",
   "execution_count": 1,
   "metadata": {},
   "outputs": [],
   "source": [
    "from setup_bench import SetupBench\n",
    "import enum\n",
    "from transitions import State, Machine"
   ]
  },
  {
   "cell_type": "code",
   "execution_count": 2,
   "metadata": {},
   "outputs": [],
   "source": [
    "# temporary stand-in for user-input data\n",
    "data_vars = {\n",
    "    'rmag': 10,\n",
    "    'archmode': 0,\n",
    "    'aoopsmode': 2,\n",
    "    'lgsmode': 0,\n",
    "    'lst3pcrg': 1,\n",
    "    'lgsfrrt': 20,\n",
    "    'simulate': 0,\n",
    "    'tname': 'LASER ZENITH',\n",
    "    'instname': 'NIRC2',\n",
    "    'telescope': 'Keck II',\n",
    "    'darmode': 1,\n",
    "    'offAxisFlag': 1,\n",
    "    'pntTTcur': [0,1],\n",
    "    'pntrefcur': [1,2],\n",
    "}"
   ]
  },
  {
   "cell_type": "code",
   "execution_count": 3,
   "metadata": {},
   "outputs": [
    {
     "name": "stdout",
     "output_type": "stream",
     "text": [
      "OPSModes.LGS\n",
      "SystemStates.IDLE\n"
     ]
    }
   ],
   "source": [
    "bench = SetupBench(data_vars)\n",
    "bench.run()"
   ]
  },
  {
   "cell_type": "code",
   "execution_count": 11,
   "metadata": {},
   "outputs": [
    {
     "name": "stdout",
     "output_type": "stream",
     "text": [
      "OPSModes.NGS\n",
      "Running state IDLE\n"
     ]
    },
    {
     "data": {
      "text/plain": [
       "True"
      ]
     },
     "execution_count": 11,
     "metadata": {},
     "output_type": "execute_result"
    }
   ],
   "source": [
    "bench.to_NGS()\n",
    "print(bench.aoopsmode)\n",
    "bench.next()"
   ]
  },
  {
   "cell_type": "code",
   "execution_count": 4,
   "metadata": {},
   "outputs": [
    {
     "name": "stdout",
     "output_type": "stream",
     "text": [
      "\tValue of abort flag is 0\n"
     ]
    }
   ],
   "source": [
    "test.abort_flag.clear()"
   ]
  },
  {
   "cell_type": "code",
   "execution_count": 57,
   "metadata": {},
   "outputs": [],
   "source": [
    "class Test(enum.Enum):\n",
    "    test1 = \"test1\"\n",
    "    test2 = \"test2\"\n",
    "    test3 = \"test3\"\n",
    "    \n",
    "    def run(self):\n",
    "        print(\"Running state\", self.name)"
   ]
  },
  {
   "cell_type": "code",
   "execution_count": 75,
   "metadata": {},
   "outputs": [],
   "source": [
    "m = Machine(states=Test, initial=Test.test1, transitions=[['next', Test.test1, Test.test2], ['next', Test.test2, Test.test3]])"
   ]
  },
  {
   "cell_type": "code",
   "execution_count": 57,
   "metadata": {},
   "outputs": [],
   "source": [
    "class Matter(Machine):\n",
    "    def __init__(self):\n",
    "        self.testmachine1 = Machine(self, model_attribute='test1', states=['A', 'B', 'C'], initial='A')\n",
    "        self.testmachine2 = Machine(self, model_attribute='test2', states=['D', 'E', 'F'], initial='D')"
   ]
  },
  {
   "cell_type": "code",
   "execution_count": 58,
   "metadata": {},
   "outputs": [
    {
     "data": {
      "text/plain": [
       "('C', 'E')"
      ]
     },
     "execution_count": 58,
     "metadata": {},
     "output_type": "execute_result"
    }
   ],
   "source": [
    "lump = Matter()\n",
    "lump.to_C()\n",
    "lump.to_E()\n",
    "lump.test1, lump.test2"
   ]
  },
  {
   "cell_type": "code",
   "execution_count": 16,
   "metadata": {},
   "outputs": [],
   "source": [
    "lump = Matter()\n",
    "test1 = Machine(lump, model_attribute='test1', states=['A', 'B', 'C'], initial='A')\n",
    "test2 = Machine(lump, model_attribute='test2', states=['D', 'E', 'F'], initial='D')"
   ]
  },
  {
   "cell_type": "code",
   "execution_count": 21,
   "metadata": {},
   "outputs": [
    {
     "data": {
      "text/plain": [
       "'A'"
      ]
     },
     "execution_count": 21,
     "metadata": {},
     "output_type": "execute_result"
    }
   ],
   "source": [
    "lump.to_E()\n",
    "lump.test1"
   ]
  },
  {
   "cell_type": "code",
   "execution_count": 76,
   "metadata": {},
   "outputs": [
    {
     "name": "stdout",
     "output_type": "stream",
     "text": [
      "[<bound method Test.run of <Test.test1: 'test1'>>]\n",
      "[<bound method Test.run of <Test.test2: 'test2'>>]\n",
      "[<bound method Test.run of <Test.test3: 'test3'>>]\n"
     ]
    }
   ],
   "source": [
    "for name, state in m.states.items():\n",
    "    state.on_enter = [state.value.run]\n",
    "    print(state.on_enter)"
   ]
  },
  {
   "cell_type": "code",
   "execution_count": 77,
   "metadata": {},
   "outputs": [
    {
     "name": "stdout",
     "output_type": "stream",
     "text": [
      "Running state test2\n"
     ]
    },
    {
     "data": {
      "text/plain": [
       "True"
      ]
     },
     "execution_count": 77,
     "metadata": {},
     "output_type": "execute_result"
    }
   ],
   "source": [
    "m.next()"
   ]
  },
  {
   "cell_type": "code",
   "execution_count": 7,
   "metadata": {},
   "outputs": [],
   "source": [
    "class DotDict(dict):\n",
    "    \"\"\"dot.notation access to dictionary attributes\"\"\"\n",
    "    def __getattr__(*args):\n",
    "        val = dict.get(*args)\n",
    "        return DotDict(val) if type(val) is dict else val\n",
    "    __setattr__ = dict.__setitem__\n",
    "    __delattr__ = dict.__delitem__"
   ]
  },
  {
   "cell_type": "code",
   "execution_count": 8,
   "metadata": {},
   "outputs": [],
   "source": [
    "mydict = {\"test1\": 1, \"test2\": 2, \"test3\": {\"test4\": 4, \"test5\": 5}}\n",
    "mydotdict = DotDict(mydict)\n",
    "mydotdict['test6'] = 6"
   ]
  },
  {
   "cell_type": "code",
   "execution_count": 10,
   "metadata": {},
   "outputs": [
    {
     "data": {
      "text/plain": [
       "{'test1': 1,\n",
       " 'test2': 2,\n",
       " 'test3': {'test4': 4, 'test5': 5},\n",
       " 'test6': 6,\n",
       " 'test7': 7}"
      ]
     },
     "execution_count": 10,
     "metadata": {},
     "output_type": "execute_result"
    }
   ],
   "source": [
    "mydotdict.test7 = 7\n",
    "mydotdict"
   ]
  },
  {
   "cell_type": "code",
   "execution_count": 3,
   "metadata": {},
   "outputs": [],
   "source": [
    "from AO_devices import *"
   ]
  },
  {
   "cell_type": "code",
   "execution_count": 4,
   "metadata": {},
   "outputs": [],
   "source": [
    "test = Channel(\"test\")"
   ]
  },
  {
   "cell_type": "code",
   "execution_count": 5,
   "metadata": {},
   "outputs": [
    {
     "data": {
      "text/plain": [
       "'___test___'"
      ]
     },
     "execution_count": 5,
     "metadata": {},
     "output_type": "execute_result"
    }
   ],
   "source": [
    "test.name"
   ]
  },
  {
   "cell_type": "code",
   "execution_count": 6,
   "metadata": {},
   "outputs": [
    {
     "name": "stdout",
     "output_type": "stream",
     "text": [
      "\tValue of ___test___ is test\n"
     ]
    },
    {
     "data": {
      "text/plain": [
       "'test'"
      ]
     },
     "execution_count": 6,
     "metadata": {},
     "output_type": "execute_result"
    }
   ],
   "source": [
    "test.value"
   ]
  },
  {
   "cell_type": "code",
   "execution_count": 7,
   "metadata": {},
   "outputs": [
    {
     "name": "stdout",
     "output_type": "stream",
     "text": [
      "\tValue of ___test___ is test\n",
      "\tSetting ___test___ to 1\n"
     ]
    }
   ],
   "source": [
    "test.write(1)"
   ]
  },
  {
   "cell_type": "code",
   "execution_count": 8,
   "metadata": {},
   "outputs": [
    {
     "name": "stdout",
     "output_type": "stream",
     "text": [
      "\tValue of ___test___ is 1\n"
     ]
    },
    {
     "data": {
      "text/plain": [
       "1"
      ]
     },
     "execution_count": 8,
     "metadata": {},
     "output_type": "execute_result"
    }
   ],
   "source": [
    "test.value"
   ]
  },
  {
   "cell_type": "code",
   "execution_count": 1,
   "metadata": {},
   "outputs": [],
   "source": [
    "import AO_util as ao"
   ]
  },
  {
   "cell_type": "code",
   "execution_count": 2,
   "metadata": {},
   "outputs": [],
   "source": [
    "x = ao.read_all_channels()"
   ]
  },
  {
   "cell_type": "code",
   "execution_count": 3,
   "metadata": {},
   "outputs": [
    {
     "name": "stdout",
     "output_type": "stream",
     "text": [
      "\tValue of TSS stage x-position is k%:ao:sc:ob:tss:upx\n",
      "\tSetting TSS stage x-position to 0.0\n"
     ]
    }
   ],
   "source": [
    "x['aotsx'].write(0)"
   ]
  },
  {
   "cell_type": "code",
   "execution_count": 6,
   "metadata": {},
   "outputs": [
    {
     "name": "stdout",
     "output_type": "stream",
     "text": [
      "\tValue of Abort flag is True\n",
      "\tSetting Abort flag to False\n"
     ]
    }
   ],
   "source": [
    "x['frautabort'].clear()"
   ]
  },
  {
   "cell_type": "code",
   "execution_count": 5,
   "metadata": {},
   "outputs": [
    {
     "name": "stdout",
     "output_type": "stream",
     "text": [
      "\tValue of k%:ao:sc:ob:tss:upx is 0\n"
     ]
    },
    {
     "data": {
      "text/plain": [
       "True"
      ]
     },
     "execution_count": 5,
     "metadata": {},
     "output_type": "execute_result"
    }
   ],
   "source": []
  },
  {
   "cell_type": "code",
   "execution_count": null,
   "metadata": {},
   "outputs": [],
   "source": []
  }
 ],
 "metadata": {
  "kernelspec": {
   "display_name": "Python 3",
   "language": "python",
   "name": "python3"
  },
  "language_info": {
   "codemirror_mode": {
    "name": "ipython",
    "version": 3
   },
   "file_extension": ".py",
   "mimetype": "text/x-python",
   "name": "python",
   "nbconvert_exporter": "python",
   "pygments_lexer": "ipython3",
   "version": "3.7.4"
  }
 },
 "nbformat": 4,
 "nbformat_minor": 4
}
