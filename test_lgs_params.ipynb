{
 "cells": [
  {
   "cell_type": "code",
   "execution_count": 1,
   "metadata": {},
   "outputs": [],
   "source": [
    "### test_lgs_params.ipynb\n",
    "### attempting to pull relevant parameters from science and weather data\n",
    "### imports\n",
    "import numpy as np\n",
    "import pandas as pd\n",
    "import glob\n",
    "from astropy.table import Table\n",
    "from astropy.io import fits\n",
    "import lgs_metadata_compiler as md\n",
    "import matplotlib.pyplot as plt\n",
    "### ML algorithms\n",
    "from sklearn.preprocessing import StandardScaler\n",
    "from sklearn.decomposition import PCA\n",
    "from sklearn.ensemble import RandomForestRegressor\n",
    "from sklearn.metrics import mean_absolute_error\n",
    "from sklearn.model_selection import train_test_split"
   ]
  },
  {
   "cell_type": "code",
   "execution_count": 2,
   "metadata": {},
   "outputs": [],
   "source": [
    "### Files and folders\n",
    "root_dir = \"/g/lu/data/gc\" # root data directory\n",
    "tables = \"LGS_AO_data/steve_metadata/\" # folder of data tables found in Steve's directory\n",
    "meta_file = tables+\"lgs_metadata2.fits\" # test metadata table\n",
    "# strehl and fwhm are labels, the rest are features\n",
    "use_columns = ['strehl', 'fwhm', 'airmass', 'az', 'MASS', 'DIMM', 'wind_speed', \n",
    "               'wind_direction', 'temperature', 'relative_humidity', 'pressure']\n",
    "y = use_columns[:2]\n",
    "# guessing that DIMM is the DIMM seeing, MASS is the MASS seeing\n",
    "# not really sure what units anything is in"
   ]
  },
  {
   "cell_type": "code",
   "execution_count": 3,
   "metadata": {},
   "outputs": [
    {
     "ename": "SyntaxError",
     "evalue": "unexpected EOF while parsing (<ipython-input-3-7355cfb5506f>, line 22)",
     "output_type": "error",
     "traceback": [
      "\u001b[0;36m  File \u001b[0;32m\"<ipython-input-3-7355cfb5506f>\"\u001b[0;36m, line \u001b[0;32m22\u001b[0m\n\u001b[0;31m    \u001b[0m\n\u001b[0m    ^\u001b[0m\n\u001b[0;31mSyntaxError\u001b[0m\u001b[0;31m:\u001b[0m unexpected EOF while parsing\n"
     ]
    }
   ],
   "source": [
    "# runs one random forest on features X and labels Y\n",
    "def runRandomForest(X, Y, max_depth, n_estimators, max_features):\n",
    "    map_errs = {}\n",
    "    for col in Y.columns:\n",
    "        y = Y[col] # extract one label column\n",
    "        rf = RandomForestRegressor() # set up regressor\n",
    "        # train-test split\n",
    "        train_X, val_X, train_y, val_y = train_test_split(X, y, random_state=rand_state)\n",
    "        rf.fit(train_X, train_y) # fit model\n",
    "        # get predictions\n",
    "        rf_predictions = rf.predict(val_X)\n",
    "        rf_mape = np.mean(np.abs((rf_predictions-val_y)/val_y))\n",
    "        # save results as mean absolute percentage error\n",
    "        map_errs[col] = rf_mape\n",
    "    return map_errs\n",
    "\n",
    "# params will be a dictionary of parameters to their ranges\n",
    "# the ranges will list (start, stop, step) of each parameter\n",
    "def nRandomForests(X, Y, n_runs, params):\n",
    "    for p in params.keys:\n",
    "        for j in range(p[0], p[1], p[2]):\n",
    "            "
   ]
  },
  {
   "cell_type": "code",
   "execution_count": 5,
   "metadata": {},
   "outputs": [
    {
     "data": {
      "text/html": [
       "<div>\n",
       "<style scoped>\n",
       "    .dataframe tbody tr th:only-of-type {\n",
       "        vertical-align: middle;\n",
       "    }\n",
       "\n",
       "    .dataframe tbody tr th {\n",
       "        vertical-align: top;\n",
       "    }\n",
       "\n",
       "    .dataframe thead th {\n",
       "        text-align: right;\n",
       "    }\n",
       "</style>\n",
       "<table border=\"1\" class=\"dataframe\">\n",
       "  <thead>\n",
       "    <tr style=\"text-align: right;\">\n",
       "      <th></th>\n",
       "      <th>strehl</th>\n",
       "      <th>fwhm</th>\n",
       "      <th>airmass</th>\n",
       "      <th>az</th>\n",
       "      <th>MASS</th>\n",
       "      <th>DIMM</th>\n",
       "      <th>wind_speed</th>\n",
       "      <th>wind_direction</th>\n",
       "      <th>temperature</th>\n",
       "      <th>relative_humidity</th>\n",
       "      <th>pressure</th>\n",
       "    </tr>\n",
       "  </thead>\n",
       "  <tbody>\n",
       "    <tr>\n",
       "      <td>1643</td>\n",
       "      <td>0.331</td>\n",
       "      <td>59.09</td>\n",
       "      <td>1.55908</td>\n",
       "      <td>166.16518</td>\n",
       "      <td>0.06</td>\n",
       "      <td>0.40</td>\n",
       "      <td>0.514444</td>\n",
       "      <td>119.0</td>\n",
       "      <td>3.52</td>\n",
       "      <td>48.0</td>\n",
       "      <td>0.6182</td>\n",
       "    </tr>\n",
       "    <tr>\n",
       "      <td>1644</td>\n",
       "      <td>0.312</td>\n",
       "      <td>61.04</td>\n",
       "      <td>1.55759</td>\n",
       "      <td>166.39213</td>\n",
       "      <td>0.06</td>\n",
       "      <td>0.40</td>\n",
       "      <td>0.514444</td>\n",
       "      <td>119.0</td>\n",
       "      <td>3.52</td>\n",
       "      <td>48.0</td>\n",
       "      <td>0.6182</td>\n",
       "    </tr>\n",
       "    <tr>\n",
       "      <td>1645</td>\n",
       "      <td>0.316</td>\n",
       "      <td>57.67</td>\n",
       "      <td>1.55611</td>\n",
       "      <td>166.62168</td>\n",
       "      <td>0.06</td>\n",
       "      <td>0.45</td>\n",
       "      <td>0.514444</td>\n",
       "      <td>119.0</td>\n",
       "      <td>3.50</td>\n",
       "      <td>47.0</td>\n",
       "      <td>0.6182</td>\n",
       "    </tr>\n",
       "    <tr>\n",
       "      <td>1646</td>\n",
       "      <td>0.238</td>\n",
       "      <td>73.30</td>\n",
       "      <td>1.55465</td>\n",
       "      <td>166.85421</td>\n",
       "      <td>0.06</td>\n",
       "      <td>0.45</td>\n",
       "      <td>1.028889</td>\n",
       "      <td>119.0</td>\n",
       "      <td>3.47</td>\n",
       "      <td>47.0</td>\n",
       "      <td>0.6183</td>\n",
       "    </tr>\n",
       "    <tr>\n",
       "      <td>1647</td>\n",
       "      <td>0.269</td>\n",
       "      <td>65.81</td>\n",
       "      <td>1.55310</td>\n",
       "      <td>167.10523</td>\n",
       "      <td>0.06</td>\n",
       "      <td>0.42</td>\n",
       "      <td>0.514444</td>\n",
       "      <td>120.0</td>\n",
       "      <td>3.45</td>\n",
       "      <td>50.0</td>\n",
       "      <td>0.6183</td>\n",
       "    </tr>\n",
       "    <tr>\n",
       "      <td>...</td>\n",
       "      <td>...</td>\n",
       "      <td>...</td>\n",
       "      <td>...</td>\n",
       "      <td>...</td>\n",
       "      <td>...</td>\n",
       "      <td>...</td>\n",
       "      <td>...</td>\n",
       "      <td>...</td>\n",
       "      <td>...</td>\n",
       "      <td>...</td>\n",
       "      <td>...</td>\n",
       "    </tr>\n",
       "    <tr>\n",
       "      <td>5944</td>\n",
       "      <td>0.276</td>\n",
       "      <td>62.30</td>\n",
       "      <td>1.65075</td>\n",
       "      <td>203.03754</td>\n",
       "      <td>0.13</td>\n",
       "      <td>0.40</td>\n",
       "      <td>5.144444</td>\n",
       "      <td>68.0</td>\n",
       "      <td>2.82</td>\n",
       "      <td>11.0</td>\n",
       "      <td>0.6192</td>\n",
       "    </tr>\n",
       "    <tr>\n",
       "      <td>5945</td>\n",
       "      <td>0.315</td>\n",
       "      <td>60.11</td>\n",
       "      <td>1.65376</td>\n",
       "      <td>203.24851</td>\n",
       "      <td>0.13</td>\n",
       "      <td>0.40</td>\n",
       "      <td>4.630000</td>\n",
       "      <td>69.0</td>\n",
       "      <td>2.83</td>\n",
       "      <td>11.0</td>\n",
       "      <td>0.6192</td>\n",
       "    </tr>\n",
       "    <tr>\n",
       "      <td>5946</td>\n",
       "      <td>0.380</td>\n",
       "      <td>55.86</td>\n",
       "      <td>1.65690</td>\n",
       "      <td>203.46555</td>\n",
       "      <td>0.13</td>\n",
       "      <td>0.40</td>\n",
       "      <td>4.630000</td>\n",
       "      <td>69.0</td>\n",
       "      <td>2.83</td>\n",
       "      <td>11.0</td>\n",
       "      <td>0.6192</td>\n",
       "    </tr>\n",
       "    <tr>\n",
       "      <td>5947</td>\n",
       "      <td>0.333</td>\n",
       "      <td>59.27</td>\n",
       "      <td>1.65996</td>\n",
       "      <td>203.67566</td>\n",
       "      <td>0.13</td>\n",
       "      <td>0.40</td>\n",
       "      <td>4.115556</td>\n",
       "      <td>76.0</td>\n",
       "      <td>2.83</td>\n",
       "      <td>11.0</td>\n",
       "      <td>0.6192</td>\n",
       "    </tr>\n",
       "    <tr>\n",
       "      <td>5948</td>\n",
       "      <td>0.294</td>\n",
       "      <td>63.05</td>\n",
       "      <td>1.66310</td>\n",
       "      <td>203.89166</td>\n",
       "      <td>0.13</td>\n",
       "      <td>0.40</td>\n",
       "      <td>4.115556</td>\n",
       "      <td>82.0</td>\n",
       "      <td>2.82</td>\n",
       "      <td>11.0</td>\n",
       "      <td>0.6192</td>\n",
       "    </tr>\n",
       "  </tbody>\n",
       "</table>\n",
       "<p>3269 rows × 11 columns</p>\n",
       "</div>"
      ],
      "text/plain": [
       "      strehl   fwhm  airmass         az  MASS  DIMM  wind_speed  \\\n",
       "1643   0.331  59.09  1.55908  166.16518  0.06  0.40    0.514444   \n",
       "1644   0.312  61.04  1.55759  166.39213  0.06  0.40    0.514444   \n",
       "1645   0.316  57.67  1.55611  166.62168  0.06  0.45    0.514444   \n",
       "1646   0.238  73.30  1.55465  166.85421  0.06  0.45    1.028889   \n",
       "1647   0.269  65.81  1.55310  167.10523  0.06  0.42    0.514444   \n",
       "...      ...    ...      ...        ...   ...   ...         ...   \n",
       "5944   0.276  62.30  1.65075  203.03754  0.13  0.40    5.144444   \n",
       "5945   0.315  60.11  1.65376  203.24851  0.13  0.40    4.630000   \n",
       "5946   0.380  55.86  1.65690  203.46555  0.13  0.40    4.630000   \n",
       "5947   0.333  59.27  1.65996  203.67566  0.13  0.40    4.115556   \n",
       "5948   0.294  63.05  1.66310  203.89166  0.13  0.40    4.115556   \n",
       "\n",
       "      wind_direction  temperature  relative_humidity  pressure  \n",
       "1643           119.0         3.52               48.0    0.6182  \n",
       "1644           119.0         3.52               48.0    0.6182  \n",
       "1645           119.0         3.50               47.0    0.6182  \n",
       "1646           119.0         3.47               47.0    0.6183  \n",
       "1647           120.0         3.45               50.0    0.6183  \n",
       "...              ...          ...                ...       ...  \n",
       "5944            68.0         2.82               11.0    0.6192  \n",
       "5945            69.0         2.83               11.0    0.6192  \n",
       "5946            69.0         2.83               11.0    0.6192  \n",
       "5947            76.0         2.83               11.0    0.6192  \n",
       "5948            82.0         2.82               11.0    0.6192  \n",
       "\n",
       "[3269 rows x 11 columns]"
      ]
     },
     "execution_count": 5,
     "metadata": {},
     "output_type": "execute_result"
    }
   ],
   "source": [
    "### Read info from Steve's metadata files\n",
    "meta_data = Table.read(meta_file)\n",
    "meta_data = meta_data.to_pandas() # convert to pandas\n",
    "# Extract and clean relevant data\n",
    "meta_clean = meta_data[use_columns].dropna()\n",
    "meta_clean = meta_clean[meta_clean['fwhm']>0]\n",
    "meta_clean # display"
   ]
  },
  {
   "cell_type": "code",
   "execution_count": 6,
   "metadata": {},
   "outputs": [],
   "source": [
    "# Extract y variables\n",
    "Y = meta_clean[use_columns[:2]]\n",
    "strehl = meta_clean['strehl']\n",
    "fwhm = meta_clean['fwhm']\n",
    "\n",
    "# Extract x variables\n",
    "X = meta_clean[use_columns[2:]]"
   ]
  },
  {
   "cell_type": "code",
   "execution_count": 7,
   "metadata": {},
   "outputs": [],
   "source": [
    "### Scale the data\n",
    "# StandardScaler() subtracts the mean and divides by the standard deviation\n",
    "# Very important for PCA to normalize for high-magnitude features\n",
    "X_scaled = StandardScaler().fit_transform(X)\n",
    "# (1-tolerance) is the amount (%) of variation we keep in our data\n",
    "tolerance = 0.01"
   ]
  },
  {
   "cell_type": "code",
   "execution_count": 8,
   "metadata": {},
   "outputs": [
    {
     "data": {
      "text/plain": [
       "[0.25, 0.21, 0.17, 0.12, 0.08, 0.07, 0.05, 0.04, 0.01]"
      ]
     },
     "execution_count": 8,
     "metadata": {},
     "output_type": "execute_result"
    }
   ],
   "source": [
    "### Basic PCA - extracts features which have the most variation in the data\n",
    "pca = PCA(1-tolerance)\n",
    "pca.fit(X_scaled)\n",
    "# View variance ratios\n",
    "list(np.round(pca.explained_variance_ratio_, 2))\n",
    "# 1. If the emphasis is on knowing what our features mean then this is not a great algorithm to use\n",
    "# 2. We have so few features that we probably don't need to eliminate any if we use them as-is\n",
    "# 3. The explained variance ratios are also all fairly small, so PCA isn't likely to help a lot"
   ]
  },
  {
   "cell_type": "code",
   "execution_count": 9,
   "metadata": {},
   "outputs": [
    {
     "name": "stderr",
     "output_type": "stream",
     "text": [
      "/opt/anaconda3/envs/astroconda/lib/python3.7/site-packages/sklearn/ensemble/forest.py:245: FutureWarning: The default value of n_estimators will change from 10 in version 0.20 to 100 in 0.22.\n",
      "  \"10 in version 0.20 to 100 in 0.22.\", FutureWarning)\n",
      "/opt/anaconda3/envs/astroconda/lib/python3.7/site-packages/sklearn/ensemble/forest.py:245: FutureWarning: The default value of n_estimators will change from 10 in version 0.20 to 100 in 0.22.\n",
      "  \"10 in version 0.20 to 100 in 0.22.\", FutureWarning)\n"
     ]
    },
    {
     "name": "stdout",
     "output_type": "stream",
     "text": [
      "Mean Absolute Percentage Error for strehl : 12.925744020806476 %\n",
      "Mean Absolute Percentage Error for fwhm : 6.708759002298639 %\n"
     ]
    }
   ],
   "source": [
    "### Testing Random Forest Regressor\n",
    "# This does not rely on feature scale, so we will leave it out\n",
    "# This is basically identical to Kaggle's Intro ML exercise - just a proof of concept\n",
    "rand_state = np.random.randint(100000)\n",
    "percent_errors = {}\n",
    "for col in Y.columns:\n",
    "    y = Y[col] # extract one label column\n",
    "    rf = RandomForestRegressor(random_state=rand_state) # set up regressor\n",
    "    # train-test split\n",
    "    train_X, val_X, train_y, val_y = train_test_split(X, y, random_state=rand_state)\n",
    "    rf.fit(train_X, train_y) # fit model\n",
    "    # get predictions\n",
    "    rf_predictions = rf.predict(val_X)\n",
    "    percent_errors[col] = (rf_predictions-val_y)/val_y\n",
    "    rf_mape = np.mean(np.abs(percent_errors[col]))\n",
    "    # display results as mean absolute percentage error\n",
    "    print(\"Mean Absolute Percentage Error for\", col, \":\", rf_mape*100,\"%\")"
   ]
  },
  {
   "cell_type": "code",
   "execution_count": 10,
   "metadata": {},
   "outputs": [],
   "source": [
    "### Question: what does a fwhm value of -1 mean? This doesn't seem like a valid number,\n",
    "### so I have excluded it in the clean data\n",
    "### could do k-fold cross-validation instead of just one test set, but I want to make sure\n",
    "### that I remember it correctly first and that I know how to use it in sklearn\n",
    "### * also, it takes a really long time and we're already doing grid search :/"
   ]
  },
  {
   "cell_type": "code",
   "execution_count": 13,
   "metadata": {},
   "outputs": [
    {
     "data": {
      "image/png": "[encoded data removed]",
      "text/plain": [
       "<Figure size 432x288 with 1 Axes>"
      ]
     },
     "metadata": {
      "needs_background": "light"
     },
     "output_type": "display_data"
    },
    {
     "data": {
      "image/png": "[encoded data removed]",
      "text/plain": [
       "<Figure size 432x288 with 1 Axes>"
      ]
     },
     "metadata": {
      "needs_background": "light"
     },
     "output_type": "display_data"
    }
   ],
   "source": [
    "### Plots\n",
    "# Strehl\n",
    "plt.hist(100*percent_errors['strehl'], bins=100)\n",
    "plt.title(\"Strehl fit\")\n",
    "plt.xlabel(\"Percent error\")\n",
    "plt.ylabel(\"Count\")\n",
    "plt.savefig(\"strehl_naive_rf_err.png\")\n",
    "plt.show()\n",
    "\n",
    "# FWHM\n",
    "plt.hist(100*percent_errors['fwhm'], bins=100)\n",
    "plt.title(\"FWHM fit\")\n",
    "plt.xlabel(\"Percent error\")\n",
    "plt.ylabel(\"Count\")\n",
    "plt.savefig(\"fwhm_naive_rf_err.png\")\n",
    "plt.show()"
   ]
  },
  {
   "cell_type": "code",
   "execution_count": null,
   "metadata": {},
   "outputs": [],
   "source": []
  }
 ],
 "metadata": {
  "kernelspec": {
   "display_name": "Python 3",
   "language": "python",
   "name": "python3"
  },
  "language_info": {
   "codemirror_mode": {
    "name": "ipython",
    "version": 3
   },
   "file_extension": ".py",
   "mimetype": "text/x-python",
   "name": "python",
   "nbconvert_exporter": "python",
   "pygments_lexer": "ipython3",
   "version": "3.7.3"
  }
 },
 "nbformat": 4,
 "nbformat_minor": 4
}
