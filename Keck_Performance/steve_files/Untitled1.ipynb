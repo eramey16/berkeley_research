{
 "cells": [
  {
   "cell_type": "code",
   "execution_count": 1,
   "metadata": {},
   "outputs": [],
   "source": [
    "import pandas as pd\n",
    "import numpy as np\n",
    "import math\n",
    "import matplotlib.pyplot as plt\n",
    "%config InlineBackend.figure_format = 'retina'\n",
    "import os\n",
    "import datetime\n",
    "from astropy.time import Time, TimezoneInfo\n",
    "from astropy.table import Table, vstack\n",
    "from astropy import units as u, constants as c\n",
    "from datetime import datetime, timezone\n",
    "import pytz\n",
    "import time\n",
    "import glob\n",
    "import urllib\n",
    "from astropy.io import fits\n",
    "from matplotlib import rcParams\n",
    "from matplotlib.axes import Axes\n",
    "from scipy.io import readsav"
   ]
  },
  {
   "cell_type": "code",
   "execution_count": null,
   "metadata": {},
   "outputs": [],
   "source": []
  }
 ],
 "metadata": {
  "kernelspec": {
   "display_name": "Python 3",
   "language": "python",
   "name": "python3"
  },
  "language_info": {
   "codemirror_mode": {
    "name": "ipython",
    "version": 3
   },
   "file_extension": ".py",
   "mimetype": "text/x-python",
   "name": "python",
   "nbconvert_exporter": "python",
   "pygments_lexer": "ipython3",
   "version": "3.6.4"
  }
 },
 "nbformat": 4,
 "nbformat_minor": 2
}
