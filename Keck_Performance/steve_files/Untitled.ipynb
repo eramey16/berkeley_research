{
 "cells": [
  {
   "cell_type": "code",
   "execution_count": 3,
   "metadata": {},
   "outputs": [],
   "source": [
    "import glob\n",
    "import numpy as np\n",
    "from scipy.io import readsav\n",
    "import pandas as pd"
   ]
  },
  {
   "cell_type": "code",
   "execution_count": 4,
   "metadata": {},
   "outputs": [],
   "source": [
    "def mjd_list(verbose = True):\n",
    "    \n",
    "    '''\n",
    "    This function looks through the telemetry directories and generates a table of the files and mjds\n",
    "    '''\n",
    "\n",
    "    location = '/u/steverobinson/data/keck_telemetry/*/*/*/*/*LGS_trs.sav'\n",
    "    files = glob.glob(location)\n",
    "    files = files[55:60]\n",
    "    filenames = []\n",
    "    for i, file in enumerate(files):\n",
    "        filenames.append((file[:].split('/')[9]).split('_')[0])\n",
    "    df = pd.DataFrame({'file':filenames})\n",
    "    mjd = []\n",
    "    count = 0\n",
    "    for file in files:\n",
    "        if file != '/u/steverobinson/data/keck_telemetry/93d38ad3-da2d-4a00-a39e-f437309dcafe' and file != '/u/steverobinson/data/keck_telemetry/k1':\n",
    "            data = readsav(file)\n",
    "            try:\n",
    "                temp = data.header[98].decode('utf-8')\n",
    "                mjd.append(temp.split()[2])\n",
    "            except:\n",
    "                mjd.append(np.nan)\n",
    "            count +=1\n",
    "            print(count)\n",
    "            \n",
    "    df['telemetry_mjd'] = mjd\n",
    "    \n",
    "    df.to_csv('telemetry_mjds')\n",
    "    \n",
    "mjd_list()"
   ]
  },
  {
   "cell_type": "code",
   "execution_count": 5,
   "metadata": {},
   "outputs": [],
   "source": [
    "df2 = pd.read_csv('telemetry_mjds')"
   ]
  },
  {
   "cell_type": "code",
   "execution_count": 6,
   "metadata": {},
   "outputs": [
    {
     "data": {
      "text/html": [
       "<div>\n",
       "<style scoped>\n",
       "    .dataframe tbody tr th:only-of-type {\n",
       "        vertical-align: middle;\n",
       "    }\n",
       "\n",
       "    .dataframe tbody tr th {\n",
       "        vertical-align: top;\n",
       "    }\n",
       "\n",
       "    .dataframe thead th {\n",
       "        text-align: right;\n",
       "    }\n",
       "</style>\n",
       "<table border=\"1\" class=\"dataframe\">\n",
       "  <thead>\n",
       "    <tr style=\"text-align: right;\">\n",
       "      <th></th>\n",
       "      <th>Unnamed: 0</th>\n",
       "      <th>file</th>\n",
       "      <th>telemetry_mjd</th>\n",
       "    </tr>\n",
       "  </thead>\n",
       "  <tbody>\n",
       "    <tr>\n",
       "      <th>0</th>\n",
       "      <td>0</td>\n",
       "      <td>n0032</td>\n",
       "      <td>57952.49681</td>\n",
       "    </tr>\n",
       "    <tr>\n",
       "      <th>1</th>\n",
       "      <td>1</td>\n",
       "      <td>n0033</td>\n",
       "      <td>57952.52063</td>\n",
       "    </tr>\n",
       "    <tr>\n",
       "      <th>2</th>\n",
       "      <td>2</td>\n",
       "      <td>n2001</td>\n",
       "      <td>NaN</td>\n",
       "    </tr>\n",
       "    <tr>\n",
       "      <th>3</th>\n",
       "      <td>3</td>\n",
       "      <td>n2002</td>\n",
       "      <td>NaN</td>\n",
       "    </tr>\n",
       "    <tr>\n",
       "      <th>4</th>\n",
       "      <td>4</td>\n",
       "      <td>n2003</td>\n",
       "      <td>NaN</td>\n",
       "    </tr>\n",
       "  </tbody>\n",
       "</table>\n",
       "</div>"
      ],
      "text/plain": [
       "   Unnamed: 0   file  telemetry_mjd\n",
       "0           0  n0032    57952.49681\n",
       "1           1  n0033    57952.52063\n",
       "2           2  n2001            NaN\n",
       "3           3  n2002            NaN\n",
       "4           4  n2003            NaN"
      ]
     },
     "execution_count": 6,
     "metadata": {},
     "output_type": "execute_result"
    }
   ],
   "source": [
    "df2.head()"
   ]
  },
  {
   "cell_type": "code",
   "execution_count": null,
   "metadata": {},
   "outputs": [],
   "source": []
  }
 ],
 "metadata": {
  "kernelspec": {
   "display_name": "Python 3",
   "language": "python",
   "name": "python3"
  },
  "language_info": {
   "codemirror_mode": {
    "name": "ipython",
    "version": 3
   },
   "file_extension": ".py",
   "mimetype": "text/x-python",
   "name": "python",
   "nbconvert_exporter": "python",
   "pygments_lexer": "ipython3",
   "version": "3.6.4"
  }
 },
 "nbformat": 4,
 "nbformat_minor": 2
}
