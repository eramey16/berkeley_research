{
 "cells": [
  {
   "cell_type": "code",
   "execution_count": 3,
   "metadata": {
    "collapsed": true
   },
   "outputs": [],
   "source": [
    "### Import Packages ###\n",
    "import numpy as np\n",
    "import pandas as pd\n",
    "import matplotlib.pyplot as plt\n",
    "import os\n",
    "import datetime\n",
    "from astropy.time import Time\n",
    "import time\n",
    "\n",
    "# %config InlineBackend.figure_format = 'retina'\n",
    "\n",
    "# from pylab import rcParams\n",
    "# rcParams[\"axes.linewidth\"]  = 2\n",
    "# rcParams[\"font.size\"]  = 16\n",
    "# rcParams[\"figure.figsize\"] = (10,8)\n",
    "\n",
    "% matplotlib inline"
   ]
  },
  {
   "cell_type": "code",
   "execution_count": 4,
   "metadata": {
    "collapsed": true
   },
   "outputs": [],
   "source": [
    "### Function Definition ###\n",
    "\n",
    "def month_number(file_name):\n",
    "#     print(file_name)\n",
    "    year = (int(file_name[:2]) - 4) * 12\n",
    "#     print(year)\n",
    "    month = file_name[2:5]\n",
    "#     print(month)\n",
    "    if month == 'mar':\n",
    "        return 3 + year\n",
    "    elif month == 'apr':\n",
    "        return 4 + year\n",
    "    elif month == 'may':\n",
    "        return 5 + year\n",
    "    elif month == 'jun':\n",
    "        return 6 + year\n",
    "    elif month == 'jul':\n",
    "        return 7 + year\n",
    "    elif month == 'aug':\n",
    "        return 8 + year\n",
    "    elif month == 'sep':\n",
    "        return 9 + year"
   ]
  },
  {
   "cell_type": "code",
   "execution_count": 5,
   "metadata": {},
   "outputs": [
    {
     "name": "stdout",
     "output_type": "stream",
     "text": [
      "29\n"
     ]
    }
   ],
   "source": [
    "a = month_number('06maylgs')\n",
    "print(a)"
   ]
  },
  {
   "cell_type": "code",
   "execution_count": 14,
   "metadata": {},
   "outputs": [],
   "source": [
    "def fetch_massdimm(dateString):\n",
    "    \"\"\"\n",
    "    Pass in the UT year, month, and day and this saves three files\n",
    "    (mass seeing, dimm seeing, mass Cn2 profile) to the current directory.\n",
    "    \"\"\"\n",
    "    import urllib\n",
    "\n",
    "    urlRoot = 'http://mkwc.ifa.hawaii.edu/current/seeing/'\n",
    "    \n",
    "#     dateString = '%4d%2s%2s' % (year, str(month).zfill(2), str(day).zfill(2))\n",
    "    print(dateString)\n",
    "\n",
    "    fileMASS = dateString + '.mass.dat'\n",
    "    fileDIMM = dateString + '.dimm.dat'\n",
    "    filePROF = dateString + '.masspro.dat'\n",
    "\n",
    "    urlMASS = urlRoot + 'mass/' + fileMASS\n",
    "    urlDIMM = urlRoot + 'dimm/' + fileDIMM\n",
    "    urlPROF = urlRoot + 'masspro/' + filePROF\n",
    "    \n",
    "    try:\n",
    "        request = urllib.request.urlretrieve(urlMASS, fileMASS)\n",
    "        request = urllib.request.urlretrieve(urlDIMM, fileDIMM)\n",
    "        request = urllib.request.urlretrieve(urlPROF, filePROF)\n",
    "    except:\n",
    "        print(\"Nope\")\n",
    "\n",
    "\n",
    "### Open Data, Generate Arrays ###\n",
    "\n",
    "def open_data(data_location):\n",
    "\n",
    "    # Initialize arrays (well...lists, whatever)      \n",
    "    dates = []\n",
    "    JDs = []\n",
    "\n",
    "    # Iterate through each folder in the dataset\n",
    "    for c in os.listdir(data_location):\n",
    "        if not c.startswith('.'):\n",
    "            print(c)\n",
    "\n",
    "    #         if c == '.DS_Store':\n",
    "    #         if len(c) > 8 and c[8] != 1:\n",
    "    #             print(c, 'line 38')\n",
    "\n",
    "    #         else:\n",
    "    #         print(c, 'line 41')\n",
    "            # Iterate through each folder within each date, and each file within that folder\n",
    "            month = month_number(c)\n",
    "    #         print(month, 'line 44')\n",
    "            subfolder = data_location + '/' + c + '/clean/kp/'\n",
    "            for item in os.listdir(subfolder):\n",
    "    #                 print(item)\n",
    "                if item != 'irs33N.strehl' and item != 'strehl_source.txt':\n",
    "                    continue\n",
    "\n",
    "                else:\n",
    "    #                 print('hooray', c, item)\n",
    "                    file = subfolder + item\n",
    "                    temp = pd.read_csv(file, delim_whitespace = True, header = None, skiprows = 1)\n",
    "                    JDs.append(temp[4][0])\n",
    "                    dates.append(month)\n",
    "#                     datetime.datetime.strptime('16234', '%y%j').date()\n",
    "                    \n",
    "                \n",
    "    # Show the counts array and the first few rows of the dataframe        \n",
    "    return dates, JDs"
   ]
  },
  {
   "cell_type": "code",
   "execution_count": 16,
   "metadata": {
    "scrolled": true
   },
   "outputs": [
    {
     "name": "stdout",
     "output_type": "stream",
     "text": [
      "07auglgs_nite2\n",
      "06maylgs\n",
      "17auglgs\n",
      "14auglgs3_on\n",
      "17maylgs1_nite2\n",
      "18marlgs\n",
      "17jullgs\n",
      "14auglgs3\n",
      "06junlgs\n",
      "06maylgs2\n",
      "14maylgs2\n",
      "14auglgs2\n",
      "15auglgs\n",
      "10maylgs_nite2\n",
      "08jullgs\n",
      "11auglgs\n",
      "09maylgs_nite2\n",
      "13jullgs\n",
      "16maylgs3\n",
      "09maylgs_nite4\n",
      "16jullgs1_nite1\n",
      "15auglgs_dont_use\n",
      "06maylgs1_nite1\n",
      "14jullgs\n",
      "14jullgs2\n",
      "07maylgs\n",
      "15marlgs2\n",
      "12maylgs_nite1\n",
      "09seplgs\n",
      "05junlgs\n",
      "06junlgs_nite1\n",
      "12jullgs\n",
      "15auglgs_nite1\n",
      "11auglgs_nite2\n",
      "17auglgs1_nite4\n",
      "17auglgs1_nite3\n",
      "15auglgs2_old_dist_sol\n",
      "09jullgs\n",
      "10auglgs\n",
      "17auglgs1_nite2\n",
      "10jullgs\n",
      "13aprlgs_nite3\n",
      "13aprlgs_nite4\n",
      "17maylgs1_nite1\n",
      "14maylgs\n",
      "15auglgs_old_dist_sol\n",
      "05jullgs\n",
      "07auglgs_nite1\n",
      "14auglgs3_off\n",
      "10maylgs_nite1\n",
      "07auglgs\n",
      "13jullgs3\n",
      "16maylgs\n",
      "15marlgs\n",
      "17auglgs3\n",
      "12maylgs\n",
      "14aprlgs2\n",
      "09maylgs_nite1\n",
      "09maylgs\n",
      "13aprlgs\n",
      "10maylgs\n",
      "16jullgs1_nite2\n",
      "06jullgs\n",
      "14aprlgs\n",
      "14marlgs2\n",
      "12maylgs_nite4\n",
      "17maylgs\n",
      "06maylgs1_nite2\n",
      "15maylgs\n",
      "06junlgs_nite2\n",
      "04jullgs\n",
      "08maylgs\n",
      "15auglgs_nite2\n",
      "11maylgs\n",
      "11auglgs_nite1\n",
      "17auglgs1_nite1\n",
      "17jullgs4\n",
      "14marlgs\n",
      "15auglgs_nite3\n"
     ]
    }
   ],
   "source": [
    "directory = 'lgs_data'\n",
    "dates, JDs = open_data(directory)"
   ]
  },
  {
   "cell_type": "code",
   "execution_count": 17,
   "metadata": {
    "collapsed": true
   },
   "outputs": [],
   "source": [
    "t = Time(JDs, format='mjd', out_subfmt='date')"
   ]
  },
  {
   "cell_type": "code",
   "execution_count": 18,
   "metadata": {
    "collapsed": true
   },
   "outputs": [],
   "source": [
    "t_iso = t.iso"
   ]
  },
  {
   "cell_type": "code",
   "execution_count": 19,
   "metadata": {},
   "outputs": [
    {
     "name": "stdout",
     "output_type": "stream",
     "text": [
      "['2006-05-03' '2017-08-08' '2014-08-06' '2017-05-05' '2017-07-18'\n",
      " '2014-08-06' '2006-06-20' '2014-05-19' '2014-08-04' '2015-08-09'\n",
      " '2015-08-09' '2008-07-24' '2011-08-23' '2013-07-20' '2016-05-17'\n",
      " '2016-07-12' '2015-08-09' '2015-08-09' '2014-07-03' '2014-07-04'\n",
      " '2007-05-17' '2007-05-17' '2015-04-01' '2012-05-15' '2009-09-09'\n",
      " '2005-06-30' '2006-06-20' '2012-07-24' '2015-08-09' '2017-08-11'\n",
      " '2017-08-10' '2015-08-10' '2009-07-24' '2010-08-15' '2017-08-09'\n",
      " '2010-07-06' '2017-05-04' '2014-05-11' '2015-08-09' '2005-07-30'\n",
      " '2014-08-06' '2007-08-10' '2013-07-31' '2016-05-03' '2015-03-31'\n",
      " '2017-08-23' '2012-05-15' '2014-04-19' '2009-05-01' '2013-04-26'\n",
      " '2010-05-05' '2016-07-13' '2006-07-17' '2014-04-18' '2014-03-20'\n",
      " '2012-05-18' '2017-05-04' '2006-05-03' '2015-05-14' '2006-06-21'\n",
      " '2004-07-26' '2008-05-15' '2015-08-10' '2011-05-27' '2017-08-08'\n",
      " '2017-07-27' '2014-03-19' '2015-08-11']\n"
     ]
    }
   ],
   "source": [
    "print(t_iso)"
   ]
  },
  {
   "cell_type": "code",
   "execution_count": 20,
   "metadata": {},
   "outputs": [
    {
     "name": "stdout",
     "output_type": "stream",
     "text": [
      "['20060503' '20170808' '20140806' '20170505' '20170718' '20140806'\n",
      " '20060620' '20140519' '20140804' '20150809' '20150809' '20080724'\n",
      " '20110823' '20130720' '20160517' '20160712' '20150809' '20150809'\n",
      " '20140703' '20140704' '20070517' '20070517' '20150401' '20120515'\n",
      " '20090909' '20050630' '20060620' '20120724' '20150809' '20170811'\n",
      " '20170810' '20150810' '20090724' '20100815' '20170809' '20100706'\n",
      " '20170504' '20140511' '20150809' '20050730' '20140806' '20070810'\n",
      " '20130731' '20160503' '20150331' '20170823' '20120515' '20140419'\n",
      " '20090501' '20130426' '20100505' '20160713' '20060717' '20140418'\n",
      " '20140320' '20120518' '20170504' '20060503' '20150514' '20060621'\n",
      " '20040726' '20080515' '20150810' '20110527' '20170808' '20170727'\n",
      " '20140319' '20150811']\n"
     ]
    }
   ],
   "source": [
    "for i, date in enumerate(t_iso):\n",
    "    new_date = date.replace('-', '')\n",
    "    t_iso[i] = new_date\n",
    "    \n",
    "print(t_iso)\n",
    "# dateStrings = t_iso.replace('-', '')"
   ]
  },
  {
   "cell_type": "code",
   "execution_count": 21,
   "metadata": {},
   "outputs": [
    {
     "name": "stdout",
     "output_type": "stream",
     "text": [
      "20060503\n",
      "Nope\n",
      "20170808\n",
      "20140806\n",
      "20170505\n",
      "Nope\n",
      "20170718\n",
      "20140806\n",
      "20060620\n",
      "Nope\n",
      "20140519\n",
      "20140804\n",
      "20150809\n",
      "20150809\n",
      "20080724\n",
      "Nope\n",
      "20110823\n",
      "20130720\n",
      "Nope\n",
      "20160517\n",
      "20160712\n",
      "Nope\n",
      "20150809\n",
      "20150809\n",
      "20140703\n",
      "20140704\n",
      "20070517\n",
      "Nope\n",
      "20070517\n",
      "Nope\n",
      "20150401\n",
      "20120515\n",
      "Nope\n",
      "20090909\n",
      "Nope\n",
      "20050630\n",
      "Nope\n",
      "20060620\n",
      "Nope\n",
      "20120724\n",
      "20150809\n",
      "20170811\n",
      "20170810\n",
      "20150810\n",
      "20090724\n",
      "Nope\n",
      "20100815\n",
      "20170809\n",
      "20100706\n",
      "20170504\n",
      "Nope\n",
      "20140511\n",
      "20150809\n",
      "20050730\n",
      "Nope\n",
      "20140806\n",
      "20070810\n",
      "Nope\n",
      "20130731\n",
      "Nope\n",
      "20160503\n",
      "20150331\n",
      "20170823\n",
      "20120515\n",
      "Nope\n",
      "20140419\n",
      "20090501\n",
      "Nope\n",
      "20130426\n",
      "20100505\n",
      "20160713\n",
      "20060717\n",
      "Nope\n",
      "20140418\n",
      "20140320\n",
      "20120518\n",
      "Nope\n",
      "20170504\n",
      "Nope\n",
      "20060503\n",
      "Nope\n",
      "20150514\n",
      "20060621\n",
      "Nope\n",
      "20040726\n",
      "Nope\n",
      "20080515\n",
      "Nope\n",
      "20150810\n",
      "20110527\n",
      "Nope\n",
      "20170808\n",
      "20170727\n",
      "Nope\n",
      "20140319\n",
      "20150811\n",
      "Nope\n"
     ]
    }
   ],
   "source": [
    "for date in t_iso:\n",
    "    fetch_massdimm(date)"
   ]
  },
  {
   "cell_type": "code",
   "execution_count": 5,
   "metadata": {},
   "outputs": [
    {
     "data": {
      "text/plain": [
       "[53858.454510000003,\n",
       " 57973.254160000004,\n",
       " 57952.399260000006,\n",
       " 53906.374570000007,\n",
       " 57243.263189999998,\n",
       " 57243.263189999998,\n",
       " 54671.264750000002,\n",
       " 55796.248329999995,\n",
       " 56493.252050000003,\n",
       " 56841.282639999998,\n",
       " 54237.464160000003,\n",
       " 54237.464160000003,\n",
       " 55083.224710000002,\n",
       " 53551.388639999997,\n",
       " 56132.252410000001,\n",
       " 55036.298420000006,\n",
       " 55423.239989999995,\n",
       " 55383.307110000002,\n",
       " 56788.580679999992,\n",
       " 53581.295550000003,\n",
       " 54322.287720000008,\n",
       " 57511.437470000004,\n",
       " 57112.551970000008,\n",
       " 55760.266609999999,\n",
       " 56062.455889999997,\n",
       " 54952.493110000003,\n",
       " 56408.541299999997,\n",
       " 55321.565470000001,\n",
       " 53933.281589999999,\n",
       " 56765.604729999992,\n",
       " 57877.47466,\n",
       " 57156.512610000005,\n",
       " 53212.346420000002,\n",
       " 54601.439360000004,\n",
       " 55708.442720000006,\n",
       " 56735.626450000003]"
      ]
     },
     "execution_count": 5,
     "metadata": {},
     "output_type": "execute_result"
    }
   ],
   "source": [
    "JDs"
   ]
  },
  {
   "cell_type": "code",
   "execution_count": null,
   "metadata": {
    "collapsed": true
   },
   "outputs": [],
   "source": []
  }
 ],
 "metadata": {
  "kernelspec": {
   "display_name": "Python 3",
   "language": "python",
   "name": "python3"
  },
  "language_info": {
   "codemirror_mode": {
    "name": "ipython",
    "version": 3
   },
   "file_extension": ".py",
   "mimetype": "text/x-python",
   "name": "python",
   "nbconvert_exporter": "python",
   "pygments_lexer": "ipython3",
   "version": "3.6.4"
  }
 },
 "nbformat": 4,
 "nbformat_minor": 2
}
