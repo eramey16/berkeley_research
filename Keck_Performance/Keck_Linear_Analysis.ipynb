{
 "cells": [
  {
   "cell_type": "code",
   "execution_count": 1,
   "metadata": {},
   "outputs": [],
   "source": [
    "import numpy as np\n",
    "import pandas as pd\n",
    "from astropy.table import Table\n",
    "import ML_util\n",
    "from sklearn.svm import SVR\n",
    "from sklearn.model_selection import train_test_split, GridSearchCV\n",
    "from sklearn.metrics import mean_absolute_error\n",
    "from sklearn.preprocessing import StandardScaler\n",
    "from sklearn.decomposition import PCA"
   ]
  },
  {
   "cell_type": "code",
   "execution_count": 2,
   "metadata": {},
   "outputs": [
    {
     "data": {
      "text/html": [
       "<div>\n",
       "<style scoped>\n",
       "    .dataframe tbody tr th:only-of-type {\n",
       "        vertical-align: middle;\n",
       "    }\n",
       "\n",
       "    .dataframe tbody tr th {\n",
       "        vertical-align: top;\n",
       "    }\n",
       "\n",
       "    .dataframe thead th {\n",
       "        text-align: right;\n",
       "    }\n",
       "</style>\n",
       "<table border=\"1\" class=\"dataframe\">\n",
       "  <thead>\n",
       "    <tr style=\"text-align: right;\">\n",
       "      <th></th>\n",
       "      <th>strehl</th>\n",
       "      <th>fwhm</th>\n",
       "      <th>airmass</th>\n",
       "      <th>az</th>\n",
       "      <th>MASS</th>\n",
       "      <th>DIMM</th>\n",
       "      <th>wind_speed</th>\n",
       "      <th>wind_direction</th>\n",
       "      <th>temperature</th>\n",
       "      <th>relative_humidity</th>\n",
       "      <th>pressure</th>\n",
       "    </tr>\n",
       "  </thead>\n",
       "  <tbody>\n",
       "    <tr>\n",
       "      <td>1643</td>\n",
       "      <td>0.331</td>\n",
       "      <td>59.09</td>\n",
       "      <td>1.55908</td>\n",
       "      <td>166.16518</td>\n",
       "      <td>0.06</td>\n",
       "      <td>0.40</td>\n",
       "      <td>0.514444</td>\n",
       "      <td>119.0</td>\n",
       "      <td>3.52</td>\n",
       "      <td>48.0</td>\n",
       "      <td>0.6182</td>\n",
       "    </tr>\n",
       "    <tr>\n",
       "      <td>1644</td>\n",
       "      <td>0.312</td>\n",
       "      <td>61.04</td>\n",
       "      <td>1.55759</td>\n",
       "      <td>166.39213</td>\n",
       "      <td>0.06</td>\n",
       "      <td>0.40</td>\n",
       "      <td>0.514444</td>\n",
       "      <td>119.0</td>\n",
       "      <td>3.52</td>\n",
       "      <td>48.0</td>\n",
       "      <td>0.6182</td>\n",
       "    </tr>\n",
       "    <tr>\n",
       "      <td>1645</td>\n",
       "      <td>0.316</td>\n",
       "      <td>57.67</td>\n",
       "      <td>1.55611</td>\n",
       "      <td>166.62168</td>\n",
       "      <td>0.06</td>\n",
       "      <td>0.45</td>\n",
       "      <td>0.514444</td>\n",
       "      <td>119.0</td>\n",
       "      <td>3.50</td>\n",
       "      <td>47.0</td>\n",
       "      <td>0.6182</td>\n",
       "    </tr>\n",
       "    <tr>\n",
       "      <td>1646</td>\n",
       "      <td>0.238</td>\n",
       "      <td>73.30</td>\n",
       "      <td>1.55465</td>\n",
       "      <td>166.85421</td>\n",
       "      <td>0.06</td>\n",
       "      <td>0.45</td>\n",
       "      <td>1.028889</td>\n",
       "      <td>119.0</td>\n",
       "      <td>3.47</td>\n",
       "      <td>47.0</td>\n",
       "      <td>0.6183</td>\n",
       "    </tr>\n",
       "    <tr>\n",
       "      <td>1647</td>\n",
       "      <td>0.269</td>\n",
       "      <td>65.81</td>\n",
       "      <td>1.55310</td>\n",
       "      <td>167.10523</td>\n",
       "      <td>0.06</td>\n",
       "      <td>0.42</td>\n",
       "      <td>0.514444</td>\n",
       "      <td>120.0</td>\n",
       "      <td>3.45</td>\n",
       "      <td>50.0</td>\n",
       "      <td>0.6183</td>\n",
       "    </tr>\n",
       "  </tbody>\n",
       "</table>\n",
       "</div>"
      ],
      "text/plain": [
       "      strehl   fwhm  airmass         az  MASS  DIMM  wind_speed  \\\n",
       "1643   0.331  59.09  1.55908  166.16518  0.06  0.40    0.514444   \n",
       "1644   0.312  61.04  1.55759  166.39213  0.06  0.40    0.514444   \n",
       "1645   0.316  57.67  1.55611  166.62168  0.06  0.45    0.514444   \n",
       "1646   0.238  73.30  1.55465  166.85421  0.06  0.45    1.028889   \n",
       "1647   0.269  65.81  1.55310  167.10523  0.06  0.42    0.514444   \n",
       "\n",
       "      wind_direction  temperature  relative_humidity  pressure  \n",
       "1643           119.0         3.52               48.0    0.6182  \n",
       "1644           119.0         3.52               48.0    0.6182  \n",
       "1645           119.0         3.50               47.0    0.6182  \n",
       "1646           119.0         3.47               47.0    0.6183  \n",
       "1647           120.0         3.45               50.0    0.6183  "
      ]
     },
     "execution_count": 2,
     "metadata": {},
     "output_type": "execute_result"
    }
   ],
   "source": [
    "meta_clean = ML_util.read_and_clean()\n",
    "meta_clean.head()"
   ]
  },
  {
   "cell_type": "code",
   "execution_count": 3,
   "metadata": {},
   "outputs": [],
   "source": [
    "X = meta_clean[ML_util.use_cols[2:]]\n",
    "strehl = meta_clean[ML_util.use_cols[0]]\n",
    "fwhm = meta_clean[ML_util.use_cols[1]]"
   ]
  },
  {
   "cell_type": "code",
   "execution_count": 4,
   "metadata": {},
   "outputs": [],
   "source": [
    "### Scale the data\n",
    "# StandardScaler() subtracts the mean and divides by the standard deviation\n",
    "# Very important for PCA to normalize for high-magnitude features"
   ]
  },
  {
   "cell_type": "code",
   "execution_count": 5,
   "metadata": {},
   "outputs": [],
   "source": [
    "y = strehl\n",
    "train_X, test_X, train_y, test_y = train_test_split(X, y)\n",
    "s = StandardScaler(with_std=False)\n",
    "s.fit(train_X)\n",
    "train_X = s.transform(train_X)\n",
    "test_X = s.transform(test_X)\n",
    "\n",
    "# (1-tolerance) is the amount (%) of variation we keep in our data\n",
    "tolerance = 0.01\n",
    "\n",
    "### Basic PCA - extracts features which have the most variation in the data\n",
    "pca = PCA(1-tolerance)\n",
    "#pca = PCA(n_components=3)\n",
    "pca.fit(train_X)\n",
    "train_X = pca.transform(train_X)\n",
    "test_X = pca.transform(test_X)"
   ]
  },
  {
   "cell_type": "code",
   "execution_count": 6,
   "metadata": {},
   "outputs": [],
   "source": [
    "y = strehl\n",
    "train_X, test_X, train_y, test_y = ML_util.split_and_scale(X, y)\n",
    "train_X, test_X = ML_util.run_PCA(train_X, test_X, 0.01)"
   ]
  },
  {
   "cell_type": "code",
   "execution_count": 15,
   "metadata": {},
   "outputs": [
    {
     "name": "stdout",
     "output_type": "stream",
     "text": [
      "Training error: 0.04049548683872263 \n",
      "Testing error: 0.0414763754730085\n",
      "Training MAPE: 0.17253685413938477 \n",
      "Testing MAPE: 0.17398315523924462\n"
     ]
    }
   ],
   "source": [
    "svm = SVR(kernel='rbf', gamma='scale', C=4.0, coef0=1)\n",
    "svm.fit(train_X, train_y)\n",
    "\n",
    "train_pred = svm.predict(train_X)\n",
    "test_pred = svm.predict(test_X)\n",
    "\n",
    "train_err = mean_absolute_error(train_pred, train_y)\n",
    "test_err = mean_absolute_error(test_pred, test_y)\n",
    "train_mape = np.mean(np.abs((train_pred-train_y)/train_y))\n",
    "test_mape = np.mean(np.abs((test_pred-test_y)/test_y))\n",
    "\n",
    "print(\"Training error:\", train_err, \"\\nTesting error:\", test_err)\n",
    "print(\"Training MAPE:\", train_mape, \"\\nTesting MAPE:\", test_mape)"
   ]
  },
  {
   "cell_type": "code",
   "execution_count": 17,
   "metadata": {},
   "outputs": [
    {
     "name": "stdout",
     "output_type": "stream",
     "text": [
      "Training error: 0.04128995674188396 \n",
      "Testing error: 0.04264101310142973\n",
      "Training error over mean: 0.14938907082777841 \n",
      "Testing error over mean: 0.15427725841901815\n"
     ]
    }
   ],
   "source": [
    "params = {'kernel': ['poly'], 'degree':range(1, 10), \n",
    "          'coef0':[1], 'C':[x for x in np.arange(0.1,5,0.1)], 'gamma':['scale']}\n",
    "\n",
    "svm = SVR()\n",
    "search = GridSearchCV(svm, params, cv=5, scoring=\"neg_mean_absolute_error\")\n",
    "search.fit(train_X, train_y)\n",
    "\n",
    "train_pred = search.predict(train_X)\n",
    "test_pred = search.predict(test_X)\n",
    "\n",
    "train_err = mean_absolute_error(train_pred, train_y)\n",
    "test_err = mean_absolute_error(test_pred, test_y)\n",
    "\n",
    "print(\"Training error:\", train_err, \"\\nTesting error:\", test_err)\n",
    "print(\"Training error over mean:\", train_err/np.mean(train_y), \"\\nTesting error over mean:\", test_err/np.mean(train_y))"
   ]
  },
  {
   "cell_type": "code",
   "execution_count": 18,
   "metadata": {},
   "outputs": [
    {
     "data": {
      "text/plain": [
       "{'C': 0.2, 'coef0': 1, 'degree': 3, 'gamma': 'scale', 'kernel': 'poly'}"
      ]
     },
     "execution_count": 18,
     "metadata": {},
     "output_type": "execute_result"
    }
   ],
   "source": [
    "best = search.best_estimator_\n",
    "params = search.best_params_\n",
    "params"
   ]
  },
  {
   "cell_type": "code",
   "execution_count": null,
   "metadata": {},
   "outputs": [],
   "source": [
    "# OK, so idk if a 10th degree polynomial is really the best thing to estimate with, but I did use 5-fold CV\n",
    "# So hopefully it's fine"
   ]
  }
 ],
 "metadata": {
  "kernelspec": {
   "display_name": "Python 3",
   "language": "python",
   "name": "python3"
  },
  "language_info": {
   "codemirror_mode": {
    "name": "ipython",
    "version": 3
   },
   "file_extension": ".py",
   "mimetype": "text/x-python",
   "name": "python",
   "nbconvert_exporter": "python",
   "pygments_lexer": "ipython3",
   "version": "3.7.3"
  }
 },
 "nbformat": 4,
 "nbformat_minor": 4
}
