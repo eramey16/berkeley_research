{
 "cells": [
  {
   "cell_type": "code",
   "execution_count": 1,
   "metadata": {},
   "outputs": [],
   "source": [
    "### PSF_comparison.ipynb\n",
    "### Author: Emily Ramey\n",
    "### Compares Blake's PSF simulations from Kappa to Carlos's (both in H-band)\n",
    "\n",
    "# Useful modules\n",
    "import numpy as np\n",
    "import matplotlib.pyplot as plt\n",
    "from astropy.io import fits\n",
    "# Image resizing/rescaling/downscaling\n",
    "from skimage.transform import rescale, resize, downscale_local_mean\n",
    "# Gaussian fit\n",
    "from sklearn.mixture import GaussianMixture\n",
    "from PSF_analysis import gauss_fit, ee"
   ]
  },
  {
   "cell_type": "code",
   "execution_count": 2,
   "metadata": {},
   "outputs": [],
   "source": [
    "### File and folder locations:\n",
    "root_dir = \"/g2/scratch/ao/kapa/psfs/\"\n",
    "blake_folder = root_dir+\"maos/ltao_7_7_hy/\"\n",
    "carlos_folder = root_dir+\"carlos/gc_sim/\"\n",
    "# Relevant FITS data\n",
    "blake_center_file = blake_folder+\"evlpsfcl_1_x0_y0.fits\"\n",
    "carlos_all_files = carlos_folder+\"PSF2D_Hband_NyqSampl_LgsAstRadius7p6arcsec_ZA50_5000iter_4LGSsquare.fits\" # my God"
   ]
  },
  {
   "cell_type": "code",
   "execution_count": 3,
   "metadata": {},
   "outputs": [],
   "source": [
    "### Function(s)\n",
    "def get_img(data, i=0, j=0):\n",
    "    \"\"\"\n",
    "    Return image block at location i,j in Carlos's full FITS block\n",
    "    Center coordinates are 0, 0\n",
    "    i,j range from -5 to +5\n",
    "    \n",
    "    \"\"\"\n",
    "    # Shift indices to be positive\n",
    "    i += 5\n",
    "    j += 5\n",
    "    \n",
    "    # Get image at index\n",
    "    s, L = data.shape # s = side of one img (px), L = total block length (px)\n",
    "    S = int(np.sqrt(L/s)) # number of images on one side of square\n",
    "    start_img = s*(S*i+j) # flat array index * px length of one image\n",
    "    \n",
    "    return data[:, start_img:start_img+s]\n",
    "\n",
    "def ee50(psf, res):\n",
    "    \"\"\"\n",
    "    Finds the radius which contains 50% of the encircled energy\n",
    "    returns: ee50, in pixels\n",
    "    \"\"\"\n",
    "    size = psf.shape[0]\n",
    "    normalized = (1.0 / sum(psf)) * psf # normalizes the data in order to find ee50\n",
    "    ee_prev = None\n",
    "    # check each radius for encircled energy of 50%\n",
    "    for radius in np.linspace(0, size, res):\n",
    "        ee_r = ee(normalized, radius, size)\n",
    "        if ee_r > 50:\n",
    "            post_dist = abs(ee_r - 0.5) #find the energy that's closest to 0.5\n",
    "            prev_dist = abs(ee_prev - 0.5)\n",
    "            return ee_r if post_dist < prev_dist else ee_prev\n",
    "        ee_prev = ee_r\n",
    "    print(\"The function should never reach this point\")"
   ]
  },
  {
   "cell_type": "code",
   "execution_count": 12,
   "metadata": {},
   "outputs": [
    {
     "name": "stdout",
     "output_type": "stream",
     "text": [
      "Blake img shape: (100, 100)\n",
      "Carlos img shape before: (120, 120)\n",
      "Carlos img shape after: (100, 100)\n"
     ]
    }
   ],
   "source": [
    "### Read in files and extract center images:\n",
    "### Assuming all data in first HDU\n",
    "# Blake\n",
    "with fits.open(blake_center_file) as f:\n",
    "    blake_ctr = f[0].data\n",
    "print(\"Blake img shape:\", blake_ctr.shape) # sanity check 1\n",
    "\n",
    "# Carlos\n",
    "with fits.open(carlos_all_files) as f:\n",
    "    carlos_all = f[0].data\n",
    "\n",
    "# Extract Carlos's center image because why are they all in the same HDU of the same FITS file\n",
    "carlos_ctr = get_img(carlos_all)\n",
    "print(\"Carlos img shape before:\", carlos_ctr.shape) # sanity check 2\n",
    "\n",
    "### Question: do these two images have the same field of view? If not, how much should I crop?\n",
    "\n",
    "### Rescale Carlos's image to match Blake's\n",
    "carlos_ctr = resize(carlos_ctr, blake_ctr.shape)\n",
    "print(\"Carlos img shape after:\", carlos_ctr.shape) # sanity check 3"
   ]
  },
  {
   "cell_type": "code",
   "execution_count": 13,
   "metadata": {},
   "outputs": [],
   "source": [
    "### Get fwhm of each PSF # uses Blake's functions from analysis.py\n",
    "fwhm_s = [] # x, y, and avg fwhm for both PSFs\n",
    "ee_s = []\n",
    "# Process each PSF\n",
    "for PSF in [blake_ctr, carlos_ctr]:\n",
    "    # fit a gaussian to each file\n",
    "    gauss_params = gauss_fit(PSF)\n",
    "    # record x, y, and avg FWHM\n",
    "    FWHMx = 2 * np.sqrt(2*np.log(2)) * gauss_params[3] # converts sigma to FWHM\n",
    "    FWHMy = 2 * np.sqrt(2*np.log(2)) * gauss_params[4]\n",
    "    FWHMavg = (FWHMx + FWHMy) / 2 # in pixels\n",
    "    fwhm_s.append([FWHMx, FWHMy, FWHMavg])\n",
    "    \n",
    "    # find ee50, the radius at which the encircled energy is at 50%\n",
    "    ee_s.append(ee50(PSF, 1000))"
   ]
  },
  {
   "cell_type": "code",
   "execution_count": 15,
   "metadata": {},
   "outputs": [
    {
     "name": "stdout",
     "output_type": "stream",
     "text": [
      "FWHMx error: 0.19 px ; 8.7 %\n",
      "FWHMy error: 0.1 px ; 4.32 %\n",
      "FWHM avg error: 0.14 px ; 6.48 %\n",
      "\n",
      "Enclosed energy error: 0.027 pixels ; 0.054 %\n"
     ]
    }
   ],
   "source": [
    "fwhm_s = np.array(fwhm_s)\n",
    "fwhm_diffs = np.abs(fwhm_s[0]-fwhm_s[1])\n",
    "fwhm_err = fwhm_diffs/np.mean(fwhm_s, 0)*100\n",
    "print(\"FWHMx error:\", np.round(fwhm_diffs[0], 2), \"px ;\", np.round(fwhm_err[0], 2), \n",
    "      \"%\\nFWHMy error:\", np.round(fwhm_diffs[1], 2), \"px ;\", np.round(fwhm_err[1], 2), \n",
    "      \"%\\nFWHM avg error:\", np.round(fwhm_diffs[2], 2), \"px ;\", np.round(fwhm_err[2], 2), \"%\\n\")\n",
    "\n",
    "ee_diff = np.abs(ee_s[0]-ee_s[1])\n",
    "ee_err = ee_diff/np.mean(ee_s)*100\n",
    "print(\"Enclosed energy error:\", np.round(ee_diff, 3), \"pixels ;\", np.round(ee_err, 3), \"%\")"
   ]
  },
  {
   "cell_type": "code",
   "execution_count": null,
   "metadata": {},
   "outputs": [],
   "source": []
  }
 ],
 "metadata": {
  "kernelspec": {
   "display_name": "Python 3",
   "language": "python",
   "name": "python3"
  },
  "language_info": {
   "codemirror_mode": {
    "name": "ipython",
    "version": 3
   },
   "file_extension": ".py",
   "mimetype": "text/x-python",
   "name": "python",
   "nbconvert_exporter": "python",
   "pygments_lexer": "ipython3",
   "version": "3.7.4"
  }
 },
 "nbformat": 4,
 "nbformat_minor": 4
}
