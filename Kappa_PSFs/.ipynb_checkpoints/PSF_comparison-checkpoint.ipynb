{
 "cells": [
  {
   "cell_type": "code",
   "execution_count": 7,
   "metadata": {},
   "outputs": [],
   "source": [
    "### PSF_comparison.ipynb\n",
    "### Author: Emily Ramey\n",
    "### Compares Blake's PSF simulations from Kappa to Carlos's (both in H-band)\n",
    "\n",
    "# Useful modules\n",
    "import numpy as np\n",
    "import matplotlib.pyplot as plt\n",
    "from astropy.io import fits\n",
    "# Image resizing/rescaling/downscaling\n",
    "from skimage.transform import rescale, resize, downscale_local_mean\n",
    "# Gaussian fit\n",
    "from sklearn.mixture import GaussianMixture"
   ]
  },
  {
   "cell_type": "code",
   "execution_count": 2,
   "metadata": {},
   "outputs": [],
   "source": [
    "### File and folder locations:\n",
    "root_dir = \"/g2/scratch/ao/kapa/psfs/\"\n",
    "blake_folder = root_dir+\"maos/ltao_7_7_hy/\"\n",
    "carlos_folder = root_dir+\"carlos/gc_sim/\"\n",
    "# Relevant FITS data\n",
    "blake_center_file = blake_folder+\"evlpsfcl_1_x0_y0.fits\"\n",
    "carlos_all_files = carlos_folder+\"PSF2D_Hband_NyqSampl_LgsAstRadius7p6arcsec_ZA50_5000iter_4LGSsquare.fits\" # my God"
   ]
  },
  {
   "cell_type": "code",
   "execution_count": 3,
   "metadata": {},
   "outputs": [],
   "source": [
    "### Function(s)\n",
    "def get_img(data, i=0, j=0):\n",
    "    \"\"\"\n",
    "    Return image block at location i,j in Carlos's full FITS block\n",
    "    Center coordinates are 0, 0\n",
    "    i,j range from -5 to +5\n",
    "    \n",
    "    \"\"\"\n",
    "    # Shift indices to be positive\n",
    "    i += 5\n",
    "    j += 5\n",
    "    \n",
    "    # Get image at index\n",
    "    s, L = data.shape # s = side of one img (px), L = total block length (px)\n",
    "    S = int(np.sqrt(L/s)) # number of images on one side of square\n",
    "    start_img = s*(S*i+j) # flat array index * px length of one image\n",
    "    \n",
    "    return data[:, start_img:start_img+s]"
   ]
  },
  {
   "cell_type": "code",
   "execution_count": 6,
   "metadata": {},
   "outputs": [
    {
     "name": "stdout",
     "output_type": "stream",
     "text": [
      "Blake img shape: (100, 100)\n",
      "Carlos img shape before: (120, 120)\n",
      "Carlos img shape after: (100, 100)\n"
     ]
    }
   ],
   "source": [
    "### Read in files and extract center images:\n",
    "### Assuming all data in first HDU\n",
    "# Blake\n",
    "with fits.open(blake_center_file) as f:\n",
    "    blake_ctr = f[0].data\n",
    "print(\"Blake img shape:\", blake_ctr.shape) # sanity check 1\n",
    "\n",
    "# Carlos\n",
    "with fits.open(carlos_all_files) as f:\n",
    "    carlos_all = f[0].data\n",
    "\n",
    "# Extract Carlos's center image because why are they all in the same HDU of the same FITS file\n",
    "carlos_ctr = get_img(carlos_all)\n",
    "print(\"Carlos img shape before:\", carlos_ctr.shape) # sanity check 2\n",
    "\n",
    "### Question: do these two images have the same field of view? If not, how much should I crop?\n",
    "\n",
    "### Rescale Carlos's image to match Blake's\n",
    "carlos_ctr = resize(carlos_ctr, blake_ctr.shape)\n",
    "print(\"Carlos img shape after:\", carlos_ctr.shape) # sanity check 3"
   ]
  },
  {
   "cell_type": "code",
   "execution_count": 10,
   "metadata": {},
   "outputs": [
    {
     "data": {
      "text/plain": [
       "(1, 100, 100)"
      ]
     },
     "execution_count": 10,
     "metadata": {},
     "output_type": "execute_result"
    }
   ],
   "source": [
    "### Get fwhm of each PSF\n",
    "# Question: is there a Gaussian model we usually use?\n",
    "# I haven't been able to find a good 2D one just looking online, but I feel like there should be something\n",
    "\n",
    "# Initialize GM model\n",
    "gm = GaussianMixture(n_components=1, random_state = np.random.randint(1000)) # using default params\n",
    "gm.fit(blake_ctr)\n",
    "gm.covariances_.shape"
   ]
  },
  {
   "cell_type": "code",
   "execution_count": null,
   "metadata": {},
   "outputs": [],
   "source": []
  }
 ],
 "metadata": {
  "kernelspec": {
   "display_name": "Python 3",
   "language": "python",
   "name": "python3"
  },
  "language_info": {
   "codemirror_mode": {
    "name": "ipython",
    "version": 3
   },
   "file_extension": ".py",
   "mimetype": "text/x-python",
   "name": "python",
   "nbconvert_exporter": "python",
   "pygments_lexer": "ipython3",
   "version": "3.7.3"
  }
 },
 "nbformat": 4,
 "nbformat_minor": 4
}
